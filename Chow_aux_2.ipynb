{
 "cells": [
  {
   "cell_type": "markdown",
   "id": "0f1ea0ac-2a13-44c0-9f22-44701dc86e7e",
   "metadata": {},
   "source": [
    "---\n",
    "This file contains the computation needed in Section 7 of the paper \"Quotients of flag varieties and their birational geometry\" by L. Barban, G. Occhetta and L.E. Solá Conde.\n",
    "\n",
    "---"
   ]
  },
  {
   "cell_type": "markdown",
   "id": "4474bfc9-7192-4df3-bfb4-2b9941569cf9",
   "metadata": {
    "jp-MarkdownHeadingCollapsed": true
   },
   "source": [
    "# Section 7: Anticanonical divisor of the Chow quotient"
   ]
  },
  {
   "cell_type": "markdown",
   "id": "00c1fac7-aa3e-4d90-89cf-49f80b22fa87",
   "metadata": {},
   "source": [
    "## Section 7.1: Geometry of the boundary divisors"
   ]
  },
  {
   "cell_type": "markdown",
   "id": "184c1e35-b684-4077-b139-ffb5cb20565d",
   "metadata": {},
   "source": [
    "--- \n",
    "We start by defining variables for the boundary divisors:\n",
    "\n",
    "---"
   ]
  },
  {
   "cell_type": "code",
   "execution_count": 1,
   "id": "fffd59ec-d878-49c3-9024-ef8b30fed1c0",
   "metadata": {},
   "outputs": [],
   "source": [
    "var_names = ['A0','A1','A2','A3','B0','B1','B2','B3','C01','C02','C03','C12','C13','C23','D01','D02','D03','D12','D13','D23']\n",
    "vars = SR.var(' '.join(var_names))\n",
    "A0, A1, A2, A3, B0, B1, B2, B3, C01, C02, C03, C12, C13, C23, D01, D02, D03, D12, D13, D23 = vars\n",
    "boundary = list(vars)\n",
    "\n",
    "VV = Matrix(boundary).transpose();"
   ]
  },
  {
   "cell_type": "markdown",
   "id": "1ffdad1c-3844-4dcd-8be0-40d3ddcb0202",
   "metadata": {},
   "source": [
    "--- \n",
    "The following function returns the vector of coefficients of a given linear combination:\n",
    "\n",
    "---\n"
   ]
  },
  {
   "cell_type": "code",
   "execution_count": 2,
   "id": "022d4146-5749-4b9f-afbf-a17cb6097e43",
   "metadata": {},
   "outputs": [],
   "source": [
    "def coeffs(expr, basis):\n",
    "    return vector([expr.coefficient(v) for v in basis])"
   ]
  },
  {
   "cell_type": "markdown",
   "id": "c328ccf6-4b79-42ec-ad99-74e0e8c11b61",
   "metadata": {},
   "source": [
    "---\n",
    "We now compute the pullback to $X$ of the ample generator $H$ of $\\textrm{Pic}(\\mathbb P^3)$ considering the total transform of the eight fundamental planes (see Table 2)\n",
    "\n",
    "$$\n",
    "\\begin{aligned}\n",
    "A_2: \\qquad &A_2+B_2+  C_{01} + D_{02}+D_{12}+D_{23}\\\\\n",
    "A_3: \\qquad &A_3+B_3+  C_{01}+D_{03} + D_{13}+D_{23}\\\\\n",
    "B_0: \\qquad &A_0+B_0+  C_{01}+D_{01} + D_{02}+D_{03}\\\\\n",
    "B_1: \\qquad &A_1+B_1+  C_{01}+D_{01} + D_{12}+D_{13}\\\\\n",
    "C_{02}:\\qquad  &A_1+B_2+  C_{02}+D_{02} + D_{12}+D_{13}\\\\\n",
    "C_{12}:\\qquad  &A_0+B_2+  C_{12}+D_{02} + D_{12}+D_{03}\\\\\n",
    "C_{13}:\\qquad  &A_0+B_3+  C_{13}+D_{02} + D_{03}+D_{13}\\\\\n",
    "C_{03}:\\qquad  &A_1+B_3+  C_{03} + D_{03}+D_{12}+D_{13}\\\\\n",
    "\\end{aligned}\n",
    "$$\n",
    "\n",
    "and of the quadric $C_{23}$\n",
    "$$\n",
    "2q^*H = A_0+A_1+B_2+B_3 + C_{01} + C_{23} +D_{01} + D_{02}+ D_{03}+D_{12} + D_{13}+D_{23}\n",
    "$$\n",
    "and we get eight independent relations among the boundary divisors.\n",
    "\n",
    "---"
   ]
  },
  {
   "cell_type": "code",
   "execution_count": 3,
   "id": "51497f6f-eb5b-491a-8624-dcd3690e36ab",
   "metadata": {},
   "outputs": [
    {
     "data": {
      "text/plain": [
       "8"
      ]
     },
     "execution_count": 3,
     "metadata": {},
     "output_type": "execute_result"
    }
   ],
   "source": [
    "#################################################################\n",
    "######  Pullback of 8 special planes and a special quadric  #####\n",
    "#################################################################\n",
    "\n",
    "pull = {\n",
    "    'pA2': A2 + B2 + C01 + D23 + D02 + D12,\n",
    "    'pA3': A3 + B3 + C01 + D23 + D03 + D13,\n",
    "    'pB0': A0 + B0 + C01 + D02 + D03 + D01,\n",
    "    'pB1': A1 + B1 + C01 + D01 + D12 + D13,\n",
    "    'pC02': A1 + B2 + C02 + D12 + D13 + D02,\n",
    "    'pC12': A0 + B2 + C12 + D02 + D12 + D03,\n",
    "    'pC13': A0 + B3 + C13 + D02 + D03 + D13,\n",
    "    'pC03': A1 + B3 + C03 + D13 + D12 + D03,\n",
    "    'pC23': A0 + A1 + B2 + B3 + C01 + C23 + D01 + D02 + D03 + D12 + D13 + D23\n",
    "}\n",
    "\n",
    "##################################\n",
    "# Convert expressions to vectors #\n",
    "##################################\n",
    "\n",
    "pvecs = {k: coeffs(v, boundary) for k, v in pull.items()}\n",
    "\n",
    "##################################\n",
    "######  Matrix of relations  #####\n",
    "##################################\n",
    "\n",
    "MRel = matrix(8, 20, 0)\n",
    "MRel[0] = pvecs['pA2'] - pvecs['pA3']    # pA2 - pA3\n",
    "MRel[1] = pvecs['pA2'] - pvecs['pB0']    # pA2 - pB0\n",
    "MRel[2] = pvecs['pA2'] - pvecs['pB1']    # pA2 - pB1\n",
    "MRel[3] = pvecs['pA2'] - pvecs['pC02']   # pA2 - pC02\n",
    "MRel[4] = pvecs['pA2'] - pvecs['pC12']   # pA2 - pC12\n",
    "MRel[5] = pvecs['pA2'] - pvecs['pC13']   # pA2 - pC13\n",
    "MRel[6] = pvecs['pA2'] - pvecs['pC03']   # pA2 - pC03\n",
    "MRel[7] = 2 * pvecs['pA2'] - pvecs['pC23']  # 2*pA2 - pC23\n",
    "\n",
    "#########################################################\n",
    "## We check that the relation obtained are independent ##\n",
    "#########################################################\n",
    "\n",
    "MRel.rank()"
   ]
  },
  {
   "cell_type": "markdown",
   "id": "eb52ba3e-2fd2-4acd-82ea-bdfec0be24bf",
   "metadata": {},
   "source": [
    "---\n",
    "We construct the matrix $Q$ giving the quotient map from the free abelian group generated by the boundary divisors to $\\textrm{Pic}(X)$. In other words the columns of the matrix $Q$ can be considered as coordinates of the classes of the boundary divisors in $\\textrm{Pic}(X)$.\n",
    "\n",
    "---"
   ]
  },
  {
   "cell_type": "code",
   "execution_count": 4,
   "id": "441050f2-36f6-4e47-a6f1-1ed15368ac3a",
   "metadata": {},
   "outputs": [],
   "source": [
    "Q=MRel.right_kernel().basis_matrix()"
   ]
  },
  {
   "cell_type": "markdown",
   "id": "936e0ba5-009b-48c2-aa0f-7dcd122215c6",
   "metadata": {},
   "source": [
    "## Section 7.2: Intersection numbers"
   ]
  },
  {
   "cell_type": "markdown",
   "id": "6d1cf09e-6a61-4341-a8fe-581a7713a50c",
   "metadata": {},
   "source": [
    "---\n",
    "We now define the function **orbit** which computes the $W(\\tau)$-orbit of expressions of the boundary divisors.\n",
    "The expressions could be polynomials, without exponents, where **all the coefficients are $\\pm 1$**, and **must be entered as strings**.\n",
    "\n",
    "The function first applies the elements of $S_4$ to the symbols $0,1,2,3$, reorders indices (if $j<i$ then $ij$ is rewritten as $ji$), and transforms the output list of strings to a list of expressions in the symbolic ring.\n",
    "Then the transposition $\\tau$ is applied, and the final list is cleared from duplicates. To get only the $W$-orbit of an expression use the function **permute**.\n",
    "\n",
    "---"
   ]
  },
  {
   "cell_type": "code",
   "execution_count": 5,
   "id": "93ada506-d663-4e6c-81c0-078ca68cf4a0",
   "metadata": {},
   "outputs": [],
   "source": [
    "import itertools\n",
    "import re\n",
    "\n",
    "###################################################\n",
    "######## This function rewrites D10 as D01 ########\n",
    "###################################################\n",
    "\n",
    "def order_consecutive_digits(s):\n",
    "    # Find consecutive digit pairs that are immediately next to each other\n",
    "    matches = re.findall(r'(\\d)(\\d)', s)\n",
    "    \n",
    "    for a, b in matches:\n",
    "        if a > b:\n",
    "            s = s.replace(a + b, b + a)\n",
    "    return s\n",
    "\n",
    "##############################################################\n",
    "######## Apply all the permutations in S4 to a STRING ########\n",
    "##############################################################\n",
    "\n",
    "def permute(string):\n",
    "    permutations = list(itertools.permutations(\"0123\"))\n",
    "    results = set()\n",
    "    for perm in permutations:\n",
    "        perm_str = ''.join(perm)\n",
    "        trans_table = str.maketrans(\"0123\", perm_str)\n",
    "        permuted_string = string.translate(trans_table)\n",
    "        ordered_string = order_consecutive_digits(permuted_string)\n",
    "        results.add(SR(ordered_string))\n",
    "    return sorted(results)\n",
    "\n",
    "#############################################\n",
    "######## Apply the transposition tau ########\n",
    "#############################################\n",
    "\n",
    "def swap_labels(s):\n",
    "    swaps={\n",
    "        'A0':'B3','B3':'A0',\n",
    "        'A3':'B0','B0':'A3',\n",
    "        'A1':'B2','B2':'A1',\n",
    "        'A2':'B1','B1':'A2',\n",
    "        'D01':'D23','D23':'D01',\n",
    "        'D02':'D13','D13':'D02',\n",
    "        'C12':'C03','C03':'C12'\n",
    "    }\n",
    "    pattern=re.compile('|'.join(sorted(swaps,key=len,reverse=True)))\n",
    "    return pattern.sub(lambda m:swaps[m.group()],s)\n",
    "    \n",
    "##############################################\n",
    "########  Find the orbit of a string  ########\n",
    "#############################################\n",
    "\n",
    "def orbit(string):\n",
    "    original = permute(string)\n",
    "    swapped = permute(str(swap_labels(string)))\n",
    "    return list(set(original + swapped))"
   ]
  },
  {
   "cell_type": "markdown",
   "id": "377dba92-6b25-4198-b07d-7582f75d1dda",
   "metadata": {},
   "source": [
    "---\n",
    "We show here an example of how the functions orbit and permute are used.\n",
    "\n",
    "---"
   ]
  },
  {
   "cell_type": "code",
   "execution_count": 6,
   "id": "c5ffdc06-a48c-4011-b275-2470b5b33c25",
   "metadata": {},
   "outputs": [
    {
     "data": {
      "text/plain": [
       "[2*A0, 2*B0, 2*A3, 2*A2, 2*A1, 2*B3, 2*B2, 2*B1]"
      ]
     },
     "execution_count": 6,
     "metadata": {},
     "output_type": "execute_result"
    }
   ],
   "source": [
    "orbit('B0+B0') ###### One should not use 2*B0"
   ]
  },
  {
   "cell_type": "code",
   "execution_count": 7,
   "id": "5eafd886-3e07-4921-9888-79d785132a0f",
   "metadata": {},
   "outputs": [
    {
     "data": {
      "text/plain": [
       "[2*B0, 2*B3, 2*B2, 2*B1]"
      ]
     },
     "execution_count": 7,
     "metadata": {},
     "output_type": "execute_result"
    }
   ],
   "source": [
    "permute('B0+B0')"
   ]
  },
  {
   "cell_type": "markdown",
   "id": "10ccff1b-bf21-42af-9db9-28ced991009d",
   "metadata": {},
   "source": [
    "### Proposition 7.2 "
   ]
  },
  {
   "cell_type": "markdown",
   "id": "0436e526-b4b3-4314-9ca9-d5eea8888cc9",
   "metadata": {},
   "source": [
    "---\n",
    "In the following block we list the intersection numbers computed in the paper considering the boundary divisors $A_0$, $C_{23}$ and $D_{01}$.\n",
    "\n",
    "---"
   ]
  },
  {
   "cell_type": "code",
   "execution_count": 8,
   "id": "a7cabb77-b649-4f2c-b8e7-86b986a381ab",
   "metadata": {},
   "outputs": [],
   "source": [
    "####################################\n",
    "###### Non meeting divisors ########\n",
    "####################################\n",
    "\n",
    "m_0 = [0] * 7\n",
    "L_0 = [\"A0*A1\", \"A0*C01\", \"A0*D12\", \"C23*C02\", \"C23*D12\", \"D01*D02\", \"D01*D23\"]\n",
    "\n",
    "##################################\n",
    "###### Relations from D01 ########\n",
    "##################################\n",
    "\n",
    "m_D01=[0,0,0,0,1,1,1,1]\n",
    "L_D01 = [\"A0*A0*D01\", \"C01*C01*D01\", \"C23*C23*D01\", \"A0*C01*D01\", \"A0*B0*D01\", \n",
    "         \"A0*B1*D01\", \"A0*C23*D01\", \"C01*C23*D01\"]\n",
    "\n",
    "##################################\n",
    "###### Relations from C23 ########\n",
    "##################################\n",
    "\n",
    "m_C23 = [0, 0, 0, 0, -1, -1, -1, 1, 1]\n",
    "L_C23 = [\"A0*A0*C23\", \"A0*A1*C23\", \"A0*C01*C23\", \"B2*C01*C23\", \"D01*D01*C23\", \n",
    "         \"D23*D23*C23\", \"C01*C01*C23\", \"A0*B2*C23\", \"A0*B3*C23\"]\n",
    "\n",
    "#################################\n",
    "###### Relations from A0 ########\n",
    "#################################\n",
    "\n",
    "m_A0 = [-1] * 10\n",
    "L_A0 = [\"B0*B0*A0\", \"B1*B1*A0\", \"B2*B2*A0\", \"B3*B3*A0\", \"C13*C13*A0\", \"C12*C12*A0\", \n",
    "        \"C23*C23*A0\", \"D01*D01*A0\", \"D02*D02*A0\", \"D03*D03*A0\"]"
   ]
  },
  {
   "cell_type": "markdown",
   "id": "bc9f4bf8-65bb-4e38-8edb-3453ee0916d3",
   "metadata": {},
   "source": [
    "---\n",
    "We then use the group action to compute all the intersection numbers $E \\cdot F \\cdot G$ except for the cases $E=F=G$.\n",
    "\n",
    "If $E$ and $F$ do not meet then the entry $(0,\\ 'E*F')$ is stored in the list **subs**.\n",
    "\n",
    "If $E*F*G=m$ then the entry $(m,\\ 'E*F*G')$ is stored in the list **subs**.\n",
    "\n",
    "---"
   ]
  },
  {
   "cell_type": "code",
   "execution_count": 9,
   "id": "3997ef3b-6031-4930-aee9-d52a6027a737",
   "metadata": {},
   "outputs": [],
   "source": [
    "########################################################################\n",
    "######  Compute other intersection numbers using the group action  #####\n",
    "########################################################################\n",
    "\n",
    "def intnum(m_list, expr_list):\n",
    "    results = set()\n",
    "    for m, expr in zip(m_list, expr_list):\n",
    "        for e in orbit(expr):\n",
    "            results.add((m, str(e)))\n",
    "    return sorted(results)\n",
    "\n",
    "subs=intnum(m_0,L_0)+intnum(m_D01,L_D01)+intnum(m_C23,L_C23)+intnum(m_A0,L_A0)"
   ]
  },
  {
   "cell_type": "markdown",
   "id": "2ade658e-8aab-4bf1-8590-9f94447d8d58",
   "metadata": {},
   "source": [
    "---\n",
    "To compute an intersection number using the ones stored in the list subs, we use **Maxima's ratsubst function**.  \n",
    "The function **inter(D,C)** computes the intersection of a divisor $D$ expressed as a linear combination of boundary divisors and a curve $C$, expressed as a linear combination of curves which are intersections of two boundary divisors.\n",
    "\n",
    "---"
   ]
  },
  {
   "cell_type": "code",
   "execution_count": 10,
   "id": "244eee69-43ea-4bd9-83fb-3867efba6aba",
   "metadata": {},
   "outputs": [],
   "source": [
    "####################################\n",
    "######  Use Maxima's ratsubst  #####\n",
    "####################################\n",
    "\n",
    "def multiple_subst(substitutions, expr):\n",
    "    max_expr = expr\n",
    "    for new_expr, old_expr in substitutions:\n",
    "        max_expr = f'ratsubst({new_expr}, {old_expr}, {max_expr})'\n",
    "    return maxima(max_expr).sage()\n",
    "\n",
    "###################################################################################\n",
    "######  Function that computes the intersection of a curve C and a divisor D  #####\n",
    "###################################################################################\n",
    "\n",
    "def inter(D,C):     \n",
    "    return multiple_subst(subs,(D*C).expand())"
   ]
  },
  {
   "cell_type": "markdown",
   "id": "c50d5cf3-7812-4fa1-897e-c9bda601fec4",
   "metadata": {},
   "source": [
    "---\n",
    "Example of how to use the **inter** function.\n",
    "\n",
    "---"
   ]
  },
  {
   "cell_type": "code",
   "execution_count": 11,
   "id": "30d8e583-4527-4466-898a-71eee1dfd3f0",
   "metadata": {},
   "outputs": [
    {
     "data": {
      "text/plain": [
       "-1"
      ]
     },
     "execution_count": 11,
     "metadata": {},
     "output_type": "execute_result"
    }
   ],
   "source": [
    "inter(A0,A0*B0+C01*C23)"
   ]
  },
  {
   "cell_type": "markdown",
   "id": "03bb5ccb-fc3d-47d2-9720-d3908413a781",
   "metadata": {},
   "source": [
    "---\n",
    "To compute the top self-intersection of the boundary divisors we can use the relations to write a cube-free formula.\n",
    "\n",
    "---"
   ]
  },
  {
   "cell_type": "code",
   "execution_count": 12,
   "id": "021ab645-fb98-4ff8-8df3-468fc69deded",
   "metadata": {},
   "outputs": [
    {
     "data": {
      "text/plain": [
       "(0, 1, 2)"
      ]
     },
     "execution_count": 12,
     "metadata": {},
     "output_type": "execute_result"
    }
   ],
   "source": [
    "##################################################################################################\n",
    "######  We start by recalling the eight linear equivalent relations among boundary divisors  #####\n",
    "##################################################################################################\n",
    "\n",
    "M=MRel.rref()\n",
    "M*VV\n",
    "\n",
    "##########################################################\n",
    "##### Self-intersection of the divisors A1, C01, D01 #####\n",
    "##########################################################\n",
    "\n",
    "DivA1 = A3+C12-C23-D01+D03\n",
    "DivC01 = C03+C12-C23-D01+D03+D12-D23\n",
    "DivD01 = -A1+A3+C12-C23+D03\n",
    "\n",
    "inter(DivA1,A1^2),inter(DivC01,C01^2),inter(DivD01,D01^2)\n"
   ]
  },
  {
   "cell_type": "markdown",
   "id": "5de56d06-d59f-4208-a9a8-326b64c6de7c",
   "metadata": {},
   "source": [
    "---\n",
    "We add these relations to the list subs, which now contains every possible element $E*F*G$, with $E,F$ and $G$ boundary divisors.\n",
    "\n",
    "---"
   ]
  },
  {
   "cell_type": "code",
   "execution_count": 13,
   "id": "e4bf8c39-f117-482a-8878-ef34b97179cd",
   "metadata": {
    "scrolled": true
   },
   "outputs": [],
   "source": [
    "##########################################\n",
    "###### All the self-intersections ########\n",
    "##########################################\n",
    "\n",
    "m=[0,1,2]\n",
    "L=[\"A0*A0*A0\", \"C01*C01*C01\", \"D01*D01*D01\"]\n",
    "cubes=intnum(m,L)\n",
    "\n",
    "######################################################################\n",
    "###### Now the list subs contain all the intersection numbers ########\n",
    "######################################################################\n",
    "\n",
    "subs+=cubes"
   ]
  },
  {
   "cell_type": "markdown",
   "id": "c0dd71a9-be97-4d10-bd04-1c2262a3fb2f",
   "metadata": {},
   "source": [
    "## Section 7.3: The anticanonical bundle of $X$"
   ]
  },
  {
   "cell_type": "markdown",
   "id": "50aeb495-cfdc-4115-8a56-800b9e00a44a",
   "metadata": {},
   "source": [
    "---\n",
    "Now we write two possible expressions - formulae (10), (11) in the paper - of the anticanonical bundle $-K_X$.\n",
    "\n",
    "---"
   ]
  },
  {
   "cell_type": "code",
   "execution_count": 14,
   "id": "1f43d99e-7634-4a37-a8c4-389dcd614243",
   "metadata": {},
   "outputs": [
    {
     "data": {
      "text/plain": [
       "(A2 + A3 + B0 + B1 + 2*C01 + D01 + D23, A2 + A3 + B2 + B3 + C01 + C23 + 2*D23)"
      ]
     },
     "execution_count": 14,
     "metadata": {},
     "output_type": "execute_result"
    }
   ],
   "source": [
    "##########################################################\n",
    "######  Two expressions of the anticanonical bundle  #####\n",
    "##########################################################\n",
    "\n",
    "Exc=A0+A1+B2+B3+2*C01+D01+2*D02+2*D03+2*D12+2*D13+D23\n",
    "exc=coeffs(Exc,boundary)\n",
    "\n",
    "KX1= -(pull['pA2']+pull['pA3']+pull['pB0']+pull['pB1']) + Exc\n",
    "KX2= -(pull['pC23']+pull['pA2']+pull['pA3']) + Exc\n",
    "-KX1, -KX2"
   ]
  },
  {
   "cell_type": "markdown",
   "id": "5e72c086-64e6-48a2-99e4-fa305a1268a4",
   "metadata": {},
   "source": [
    "### Proposition 7.4"
   ]
  },
  {
   "cell_type": "markdown",
   "id": "0e1af47f-f11b-4eab-8cc8-e311b85f57fa",
   "metadata": {},
   "source": [
    "---\n",
    "We check the bigness of $-K_X$ - we know it is nef.\n",
    "\n",
    "---"
   ]
  },
  {
   "cell_type": "code",
   "execution_count": 15,
   "id": "da74037b-551a-439a-8f2e-09c61fa8da17",
   "metadata": {},
   "outputs": [
    {
     "data": {
      "text/plain": [
       "12"
      ]
     },
     "execution_count": 15,
     "metadata": {},
     "output_type": "execute_result"
    }
   ],
   "source": [
    "inter(-KX1,KX1^2)"
   ]
  },
  {
   "cell_type": "markdown",
   "id": "949f45b6-52cc-4b36-899a-8b7af9e46382",
   "metadata": {},
   "source": [
    "### Proposition 7.5\n"
   ]
  },
  {
   "cell_type": "markdown",
   "id": "a0d84f44-fd86-44e4-a619-85714703fbbc",
   "metadata": {},
   "source": [
    "---\n",
    "We compute the generators of the linear system of quartics in ${\\mathbb P}^3$ corresponding to $|-K_X|$\n",
    "\n",
    "---"
   ]
  },
  {
   "cell_type": "code",
   "execution_count": 16,
   "id": "d6fb77c5-d5ef-4c42-b156-ade998088acc",
   "metadata": {},
   "outputs": [],
   "source": [
    "############################################\n",
    "##### Linear system of quartics in  P3 #####\n",
    "############################################\n",
    "\n",
    "def vero4(v):\n",
    "   x=v[0]\n",
    "   y=v[1]\n",
    "   z=v[2]\n",
    "   t=v[3]\n",
    "   return [x^4,x^3*y,x^3*z,x^3*t,x^2*y^2,x^2*y*z,x^2*y*t,x^2*z^2,x^2*z*t,x^2*t^2,x*y^3,x*y^2*z,x*y^2*t,x*y*z^2,x*y*z*t,x*y*t^2,x*z^3,x*z^2*t,x*z*t^2,x*t^3,\n",
    "           y^4,y^3*z,y^3*t,y^2*z^2,y^2*z*t,y^2*t^2,y*z^3,y*z^2*t,y*z*t^2,y*t^3,z^4,z^3*t,z^2*t^2,z*t^3,t^4]"
   ]
  },
  {
   "cell_type": "code",
   "execution_count": 17,
   "id": "33516a2c-6f70-4ade-9a6a-c112b1f8bac3",
   "metadata": {
    "scrolled": true
   },
   "outputs": [
    {
     "data": {
      "text/plain": [
       "21"
      ]
     },
     "execution_count": 17,
     "metadata": {},
     "output_type": "execute_result"
    }
   ],
   "source": [
    "########################################################################\n",
    "##### We impose the vanishing in 21 points,                        #####\n",
    "##### 12 of them depending on two parameters a,b,                  #####\n",
    "##### chosen so that we have 5 points on each of the 6 base lines  #####\n",
    "########################################################################\n",
    "\n",
    "def matvero(a,b):\n",
    "    v=[]\n",
    "    v.append((0,0,0,1))\n",
    "    v.append((0,0,a,1))\n",
    "    v.append((0,0,1,1))\n",
    "    v.append((0,0,b,1))\n",
    "    v.append((0,0,1,0))\n",
    "    v.append((0,a,0,1))\n",
    "    v.append((a,a,1,1))\n",
    "    v.append((a,0,1,0))\n",
    "    v.append((0,1,0,1))\n",
    "    v.append((a,1,a,1))\n",
    "    v.append((1,1,1,1))\n",
    "    v.append((b,1,b,1))\n",
    "    v.append((1,0,1,0))\n",
    "    v.append((0,b,0,1))\n",
    "    v.append((b,b,1,1))\n",
    "    v.append((b,0,1,0))\n",
    "    v.append((0,1,0,0))\n",
    "    v.append((a,1,0,0))\n",
    "    v.append((1,1,0,0))\n",
    "    v.append((b,1,0,0))\n",
    "    v.append((1,0,0,0))\n",
    "    m=[]\n",
    "    for i in range(21):\n",
    "          m.append(vero4(v[i]))\n",
    "    return matrix(m)\n",
    "\n",
    "##########################################################################################################\n",
    "##### The corresponding matrix has maximal rank and a reasonable expression in the case (a,b)=(i,-i) #####\n",
    "##########################################################################################################\n",
    "\n",
    "A=matvero(I,-I)\n",
    "rank(A)"
   ]
  },
  {
   "cell_type": "code",
   "execution_count": 18,
   "id": "fbbb48af-b33d-4797-b778-6a125bce4264",
   "metadata": {
    "scrolled": true
   },
   "outputs": [
    {
     "data": {
      "text/html": [
       "<html>\\(\\displaystyle \\left(\\begin{array}{r}\n",
       "-y^{3} z - y z^{3} + x^{3} t + y z t^{2} \\\\\n",
       "x^{2} y z - y^{3} z - y z^{3} + y z t^{2} \\\\\n",
       "-y^{3} z + x^{2} y t - y z^{2} t + y z t^{2} \\\\\n",
       "-y z^{3} + x^{2} z t - y^{2} z t + y z t^{2} \\\\\n",
       "-y^{2} z t - y z^{2} t + x^{2} t^{2} + y z t^{2} \\\\\n",
       "x y^{2} z - y^{3} z - y z^{2} t + y z t^{2} \\\\\n",
       "-y^{3} z + x y^{2} t \\\\\n",
       "x y z^{2} - y z^{3} - y^{2} z t + y z t^{2} \\\\\n",
       "x y z t - y^{2} z t - y z^{2} t + y z t^{2} \\\\\n",
       "-y^{2} z t + x y t^{2} \\\\\n",
       "-y z^{3} + x z^{2} t \\\\\n",
       "-y z^{2} t + x z t^{2} \\\\\n",
       "-y z t^{2} + x t^{3} \\\\\n",
       "y^{2} z^{2} - y^{2} z t - y z^{2} t + y z t^{2}\n",
       "\\end{array}\\right)\\)</html>"
      ],
      "text/latex": [
       "$\\displaystyle \\left(\\begin{array}{r}\n",
       "-y^{3} z - y z^{3} + x^{3} t + y z t^{2} \\\\\n",
       "x^{2} y z - y^{3} z - y z^{3} + y z t^{2} \\\\\n",
       "-y^{3} z + x^{2} y t - y z^{2} t + y z t^{2} \\\\\n",
       "-y z^{3} + x^{2} z t - y^{2} z t + y z t^{2} \\\\\n",
       "-y^{2} z t - y z^{2} t + x^{2} t^{2} + y z t^{2} \\\\\n",
       "x y^{2} z - y^{3} z - y z^{2} t + y z t^{2} \\\\\n",
       "-y^{3} z + x y^{2} t \\\\\n",
       "x y z^{2} - y z^{3} - y^{2} z t + y z t^{2} \\\\\n",
       "x y z t - y^{2} z t - y z^{2} t + y z t^{2} \\\\\n",
       "-y^{2} z t + x y t^{2} \\\\\n",
       "-y z^{3} + x z^{2} t \\\\\n",
       "-y z^{2} t + x z t^{2} \\\\\n",
       "-y z t^{2} + x t^{3} \\\\\n",
       "y^{2} z^{2} - y^{2} z t - y z^{2} t + y z t^{2}\n",
       "\\end{array}\\right)$"
      ],
      "text/plain": [
       "[      -y^3*z - y*z^3 + x^3*t + y*z*t^2]\n",
       "[     x^2*y*z - y^3*z - y*z^3 + y*z*t^2]\n",
       "[  -y^3*z + x^2*y*t - y*z^2*t + y*z*t^2]\n",
       "[  -y*z^3 + x^2*z*t - y^2*z*t + y*z*t^2]\n",
       "[-y^2*z*t - y*z^2*t + x^2*t^2 + y*z*t^2]\n",
       "[   x*y^2*z - y^3*z - y*z^2*t + y*z*t^2]\n",
       "[                      -y^3*z + x*y^2*t]\n",
       "[   x*y*z^2 - y*z^3 - y^2*z*t + y*z*t^2]\n",
       "[ x*y*z*t - y^2*z*t - y*z^2*t + y*z*t^2]\n",
       "[                    -y^2*z*t + x*y*t^2]\n",
       "[                      -y*z^3 + x*z^2*t]\n",
       "[                    -y*z^2*t + x*z*t^2]\n",
       "[                      -y*z*t^2 + x*t^3]\n",
       "[ y^2*z^2 - y^2*z*t - y*z^2*t + y*z*t^2]"
      ]
     },
     "metadata": {},
     "output_type": "display_data"
    }
   ],
   "source": [
    "###############################################################\n",
    "##### We compute now the generators of the linear system ######\n",
    "###############################################################\n",
    "\n",
    "R.<x,y,z,t>=QQ[]\n",
    "S=R.fraction_field()\n",
    "K=matrix(S,basis(kernel(transpose(A))))\n",
    "mono=transpose(matrix(S,[[x^4,x^3*y,x^3*z,x^3*t,x^2*y^2,x^2*y*z,x^2*y*t,x^2*z^2,x^2*z*t,x^2*t^2,x*y^3,x*y^2*z,x*y^2*t,x*y*z^2,x*y*z*t,x*y*t^2,x*z^3,x*z^2*t,x*z*t^2,x*t^3,\n",
    "           y^4,y^3*z,y^3*t,y^2*z^2,y^2*z*t,y^2*t^2,y*z^3,y*z^2*t,y*z*t^2,y*t^3,z^4,z^3*t,z^2*t^2,z*t^3,t^4]]))\n",
    "show(K*mono)"
   ]
  },
  {
   "cell_type": "markdown",
   "id": "cc802cd0-0931-4995-9040-32fab7a0ff2e",
   "metadata": {
    "jp-MarkdownHeadingCollapsed": true
   },
   "source": [
    "# Section 8: Birational geometry of the Chow quotient"
   ]
  },
  {
   "cell_type": "markdown",
   "id": "ff17fe1e-73ba-4a2a-97fb-17a4a4b38cf3",
   "metadata": {},
   "source": [
    "## Section 8.1: The cone of curves of $X$"
   ]
  },
  {
   "cell_type": "markdown",
   "id": "1bedefd1-9ec0-4699-941b-cce40c24da03",
   "metadata": {},
   "source": [
    "### Lemma 8.1"
   ]
  },
  {
   "cell_type": "markdown",
   "id": "90e0acf0-4007-42ce-baf9-4889270ea890",
   "metadata": {},
   "source": [
    "---\n",
    "The following cells, obtained from the two expressions of the anticanonical bundle presented in Section 7.3, correspond to formulae (12) and (13) in the paper\n",
    "\n",
    "---"
   ]
  },
  {
   "cell_type": "code",
   "execution_count": 21,
   "id": "dc7bccef-7706-4122-a310-533a2ce92b88",
   "metadata": {},
   "outputs": [
    {
     "data": {
      "text/plain": [
       "[A2 + A3 + B0 + B1 + 2*C01 + D01 + D23,\n",
       " A1 + A2 + B0 + B3 + 2*C03 + D03 + D12,\n",
       " A0 + A1 + B2 + B3 + 2*C23 + D01 + D23,\n",
       " A0 + A2 + B1 + B3 + 2*C13 + D02 + D13,\n",
       " A1 + A3 + B0 + B2 + 2*C02 + D02 + D13,\n",
       " A0 + A3 + B1 + B2 + 2*C12 + D03 + D12]"
      ]
     },
     "execution_count": 21,
     "metadata": {},
     "output_type": "execute_result"
    }
   ],
   "source": [
    "orbit('A2 + A3 + B0 + B1 + C01 + C01 + D01 + D23')"
   ]
  },
  {
   "cell_type": "code",
   "execution_count": 22,
   "id": "c318976e-fc59-4609-90f7-7593c8df56fb",
   "metadata": {},
   "outputs": [
    {
     "data": {
      "text/plain": [
       "[A0 + A3 + B0 + B3 + C03 + C12 + 2*D03,\n",
       " A0 + A1 + B0 + B1 + C01 + C23 + 2*D01,\n",
       " A1 + A2 + B1 + B2 + C03 + C12 + 2*D12,\n",
       " A2 + A3 + B2 + B3 + C01 + C23 + 2*D23,\n",
       " A1 + A3 + B1 + B3 + C02 + C13 + 2*D13,\n",
       " A0 + A2 + B0 + B2 + C02 + C13 + 2*D02]"
      ]
     },
     "execution_count": 22,
     "metadata": {},
     "output_type": "execute_result"
    }
   ],
   "source": [
    "orbit('A2 + A3 + B2 + B3 + C01 + C23 + D23 +D23')"
   ]
  },
  {
   "cell_type": "markdown",
   "id": "66f6e2ad-c04c-43e3-af46-004e607a986f",
   "metadata": {},
   "source": [
    "### Remark 8.3"
   ]
  },
  {
   "cell_type": "markdown",
   "id": "1c901335-0bad-4afb-ad16-5ed5ccaeb115",
   "metadata": {},
   "source": [
    "---\n",
    "We list all the curves whose classes generate the cones of curves of the boundary divisors, which are extremal in all the boundary divisors containing them.\n",
    "\n",
    "---"
   ]
  },
  {
   "cell_type": "code",
   "execution_count": 65,
   "id": "19ac79ba-d942-4d6c-8f85-85c577a4cc6a",
   "metadata": {},
   "outputs": [],
   "source": [
    "raysD=[A0*D01, B0*D01, A0*D02, B0*D02, A0*D03, B0*D03, A1*D12, B1*D12, A1*D13, B1*D13, A2*D23, B2*D23]\n",
    "\n",
    "raysC=[C01*C23,C02*C13,C03*C12] \n",
    "### The classes C*D are not listed, since they are numerically equivalent to some A*D or B*D\n",
    "\n",
    "raysA=[A0*B0, A0*B1, A0*B2, A0*B3, A1*B0, A1*B1, A1*B2, A1*B3, A2*B0, A2*B1,A2*B2,A2*B3, A3*B0, A3*B1, A3*B2, A3*B3]\n",
    "### The classes A*C are not listed, since they are not extremal in C\n",
    "\n",
    "allrays=raysD+raysC+raysA\n",
    "smallrays= raysA+raysC"
   ]
  },
  {
   "cell_type": "code",
   "execution_count": 24,
   "id": "0e1a64c8-5d9f-42af-b8fd-12a3df1324f4",
   "metadata": {},
   "outputs": [
    {
     "data": {
      "text/plain": [
       "31"
      ]
     },
     "execution_count": 24,
     "metadata": {},
     "output_type": "execute_result"
    }
   ],
   "source": [
    "len(allrays)"
   ]
  },
  {
   "cell_type": "markdown",
   "id": "31e41663-b524-4e02-9a44-7972c665dc36",
   "metadata": {},
   "source": [
    "### Proposition 8.4 and Remark 8.5"
   ]
  },
  {
   "cell_type": "markdown",
   "id": "8db6bd9e-e56e-4af6-9219-23819dead08d",
   "metadata": {},
   "source": [
    "---\n",
    "We choose bases for $N^1(X)$ and $N_1(X)$. To check that they are bases we verify that the intersection product is nondegenerate using the function **numint** to compute the intersection matrix.\n",
    "\n",
    "---"
   ]
  },
  {
   "cell_type": "code",
   "execution_count": 25,
   "id": "f822cc8f-a2d2-4f64-8af8-bdba6ea2e5ec",
   "metadata": {},
   "outputs": [
    {
     "data": {
      "text/plain": [
       "12"
      ]
     },
     "execution_count": 25,
     "metadata": {},
     "output_type": "execute_result"
    }
   ],
   "source": [
    "#########################################################################################\n",
    "######   Intersection numbers of a curve/a divisor with divisors/curves in a list  ######\n",
    "#########################################################################################\n",
    "\n",
    "def numint(x,lst): \n",
    "    ze=[]\n",
    "    for i in range(len(lst)):\n",
    "        n=inter(lst[i],x)\n",
    "        ze.append(n)\n",
    "    v0=vector([ZZ(e) for e in ze])  \n",
    "    return v0\n",
    "\n",
    "##########################################\n",
    "######  Define and check the bases  ######\n",
    "##########################################\n",
    "\n",
    "basis=[A0,A1,A2,A3,B0,B1,B2,(B3-A0-A1-A2-A3-B0-B1-B2)/2,C01,C02,C03,D01]\n",
    "Mbasis=Matrix(basis).transpose()\n",
    "##### With this choice, the basis in N^1(X) is the canonical basis of R^12: see the matrix Q #######\n",
    "\n",
    "raybasis=[A0*B1, A0*B2, A0*B3, A1*B2, A1*B3, A2*B3, A1*B0, A2*B0, A3*B0, B0*D01, A0*D02, C02*C13]\n",
    "\n",
    "intmat=[]\n",
    "for i in range(len(basis)):\n",
    "    intmat.append(numint(basis[i],raybasis))\n",
    "M=matrix(intmat)\n",
    "M.rank()"
   ]
  },
  {
   "cell_type": "markdown",
   "id": "eb593f74-6d16-430d-9d28-700d2be8b1d9",
   "metadata": {},
   "source": [
    "---\n",
    "Now we construct the cone $NE(X)$ generated by the classes of curves in the list allrays, and we compute the number of faces of every dimension from 1 to 12. \n",
    "\n",
    "---"
   ]
  },
  {
   "cell_type": "code",
   "execution_count": 26,
   "id": "a2bba821-fc08-4726-90b4-74af7c17d16f",
   "metadata": {},
   "outputs": [],
   "source": [
    "####################################\n",
    "########   Cone of curves    #######\n",
    "####################################\n",
    "\n",
    "ray=[]\n",
    "for i in range(len(allrays)):\n",
    "    ray.append(numint(allrays[i],basis)) \n",
    "NE=Cone(ray) \n",
    "\n",
    "PNE = NE.polyhedron()\n",
    "NEfaces = PNE.f_vector()[2:]"
   ]
  },
  {
   "cell_type": "code",
   "execution_count": 27,
   "id": "24ba2b17-0d8c-49bd-817a-7034a0e161e4",
   "metadata": {},
   "outputs": [
    {
     "data": {
      "text/plain": [
       "(31, 387, 2647, 10942, 28495, 47531, 50616, 33484, 12912, 2544, 189, 1)"
      ]
     },
     "execution_count": 27,
     "metadata": {},
     "output_type": "execute_result"
    }
   ],
   "source": [
    "NEfaces"
   ]
  },
  {
   "cell_type": "markdown",
   "id": "414791df-d1f3-47fa-bb6b-c765117afa59",
   "metadata": {},
   "source": [
    "---\n",
    "We see that $NE(X)$ has 31 extremal rays, so all the rays in the list **allrays** are extremal.  \n",
    "We may also compute their anticanonical degree:\n",
    "\n",
    "---"
   ]
  },
  {
   "cell_type": "code",
   "execution_count": 28,
   "id": "a61067fc-31c8-4a49-ad70-5d995d1bd7ad",
   "metadata": {},
   "outputs": [
    {
     "data": {
      "text/plain": [
       "(1, 1, 1, 1, 1, 1, 1, 1, 1, 1, 1, 1, 0, 0, 0, 0, 0, 0, 0, 0, 0, 0, 0, 0, 0, 0, 0, 0, 0, 0, 0)"
      ]
     },
     "execution_count": 28,
     "metadata": {},
     "output_type": "execute_result"
    }
   ],
   "source": [
    "numint(-KX1,allrays)"
   ]
  },
  {
   "cell_type": "markdown",
   "id": "82e2f2fe-e949-438a-b0fb-b8cd253a6140",
   "metadata": {},
   "source": [
    "## Section 8.2: The nef cone of $X$"
   ]
  },
  {
   "cell_type": "markdown",
   "id": "84520d1b-d52f-4949-8e3d-3a6c5cde887e",
   "metadata": {},
   "source": [
    "---\n",
    "We construct the cone $\\mbox{Nef}(X)$ as the dual of $\\mbox{NE}(X)$, and list the generators of its rays:\n",
    "\n",
    "---"
   ]
  },
  {
   "cell_type": "code",
   "execution_count": 29,
   "id": "3ded45f1-0170-47d1-9e2d-8c91674818ee",
   "metadata": {
    "scrolled": true
   },
   "outputs": [
    {
     "data": {
      "text/plain": [
       "M(-2, -2, -2, -1, 0, 0, -3, -4, 3,  0, -1, 3),\n",
       "M( 0, -1, -1, -1, 0, 1, -2, -2, 2, -1, -1, 3),\n",
       "M( 0,  0,  0,  0, 0, 1,  0,  0, 1,  0,  0, 1),\n",
       "M( 0,  0,  0,  0, 1, 0,  0,  0, 1,  0,  0, 1),\n",
       "M(-1, -1, -2, -1, 0, 1, -3, -3, 3,  0, -1, 4),\n",
       "M(-1, -1, -1, -1, 0, 0, -1, -2, 1,  0,  0, 1),\n",
       "M(-1, -1, -1, -1, 1, 0, -2, -2, 2,  0,  0, 2),\n",
       "M( 0, -1,  0,  0, 1, 1, -2, -1, 3, -1,  0, 3),\n",
       "M( 0,  0,  0,  0, 1, 1, -1,  0, 2,  0,  0, 2),\n",
       "M( 0,  0,  0,  0, 1, 1, -1,  0, 1,  0,  0, 1),\n",
       "M( 0,  0,  0,  0, 1, 1,  0,  0, 1,  0,  0, 1),\n",
       "M( 0, -1,  0,  0, 1, 2, -2, -1, 3, -1,  0, 3),\n",
       "M(-1, -1, -1, -1, 0, 1, -2, -2, 2,  0,  0, 2),\n",
       "M(-1, -1, -1,  0, 1, 1, -2, -2, 3,  0, -1, 3),\n",
       "M(-1, -1, -1, -1, 0, 0, -1, -2, 2,  0,  0, 2),\n",
       "M(-1, -1, -2, -1, 0, 0, -2, -3, 2,  0, -1, 3),\n",
       "M(-1, -2, -1, -1, 0, 1, -3, -3, 3, -1, -1, 3),\n",
       "M( 0,  0,  0, -1, 1, 1, -2, -1, 2, -1,  0, 3),\n",
       "M( 0,  0, -1, -1, 1, 2, -3, -2, 3, -1,  0, 5),\n",
       "M( 0, -1,  0, -1, 1, 2, -3, -2, 4, -2,  0, 5),\n",
       "M( 0, -1, -1, -1, 0, 1, -2, -2, 2, -1,  0, 3),\n",
       "M( 0, -1, -1, -1, 1, 1, -3, -2, 3, -1,  0, 4),\n",
       "M( 0, -1, -1,  0, 1, 2, -3, -2, 4, -1, -1, 5),\n",
       "M(-1, -1, -1, -1, 0, 0, -2, -2, 2,  0,  0, 2),\n",
       "M(-1, -2, -1, -1, 0, 1, -3, -3, 3, -1,  0, 3),\n",
       "M(-1, -1, -1,  0, 0, 1, -2, -2, 3,  0, -1, 3),\n",
       "M(-1,  0, -1, -1, 1, 0, -2, -2, 2,  0,  0, 3),\n",
       "M(-1,  0,  0,  0, 0, 0, -1, -1, 1,  0,  0, 1),\n",
       "M(-1,  0, -1, -1, 0, 1, -2, -2, 2,  0,  0, 3),\n",
       "M(-1, -1,  0, -1, 0, 1, -2, -2, 3, -1,  0, 3),\n",
       "M(-1, -1,  0, -1, 1, 1, -3, -2, 3, -1,  0, 3),\n",
       "M(-1, -1,  0, -1, 1, 1, -2, -2, 3, -1,  0, 3),\n",
       "M(-1,  0, -1, -1, 1, 1, -2, -2, 2,  0,  0, 3),\n",
       "M( 0, -1, -1, -2, 1, 1, -3, -3, 3, -1,  0, 5),\n",
       "M(-1, -2, -1, -2, 0, 1, -3, -4, 4, -1, -1, 5),\n",
       "M( 0, -1, -1, -1, 0, 1, -2, -2, 2,  0,  0, 3),\n",
       "M( 0, -1, -1, -1, 1, 1, -2, -2, 2,  0,  0, 3),\n",
       "M( 0, -1, -1,  0, 1, 1, -2, -2, 3,  0, -1, 4),\n",
       "M(-1, -2, -2, -1, 0, 1, -3, -4, 4,  0, -2, 5),\n",
       "M( 0, -1, -2, -1, 1, 1, -3, -3, 3,  0, -1, 5),\n",
       "M(-1, -2, -2, -2, 0, 0, -3, -4, 3,  0, -1, 4),\n",
       "M( 0, -1,  0,  0, 0, 0, -1, -1, 1,  0,  0, 1),\n",
       "M(-1, -2, -1, -1, 0, 1, -2, -3, 3,  0, -1, 3),\n",
       "M(-1, -2, -1, -1, 0, 1, -3, -3, 3,  0, -1, 3),\n",
       "M(-1, -2, -1, -1, 0, 0, -2, -3, 3,  0, -1, 3),\n",
       "M( 0, -1, -1, -1, 0, 1, -2, -2, 2,  0, -1, 3),\n",
       "M( 0, -1,  0, -1, 1, 1, -2, -2, 3, -1,  0, 4),\n",
       "M(-1, -1, -1, -1, 0, 1, -2, -3, 3,  0, -1, 4),\n",
       "M( 0, -1, -1, -1, 1, 0, -2, -2, 2,  0,  0, 3),\n",
       "M(-1, -1, -2, -2, 0, 1, -3, -4, 3,  0, -1, 5),\n",
       "M( 0,  0, -1, -1, 1, 1, -2, -2, 2,  0,  0, 4),\n",
       "M(-1, -1, -1, -2, 0, 1, -3, -3, 3, -1,  0, 4),\n",
       "M( 0,  0,  0,  0, 1, 2, -2, -1, 3, -1,  0, 4),\n",
       "M(-1, -1, -2, -2, 0, 2, -4, -4, 4, -1, -1, 5),\n",
       "M( 0, -1,  0, -1, 1, 2, -3, -2, 4, -2,  0, 4),\n",
       "M(-2, -2, -3, -1, 0, 1, -4, -5, 5,  0, -2, 5),\n",
       "M( 0, -1, -1, -2, 1, 1, -3, -3, 3, -1,  0, 4),\n",
       "M( 0,  0, -1, -1, 1, 2, -3, -2, 3, -1,  0, 4),\n",
       "M( 0,  0, -1,  0, 0, 0, -1, -1, 1,  0,  0, 1),\n",
       "M( 0, -1,  0, -1, 0, 1, -2, -2, 3, -1,  0, 3),\n",
       "M( 0, -1,  0, -1, 1, 1, -3, -2, 3, -1,  0, 3),\n",
       "M( 0, -1,  0, -1, 1, 1, -2, -2, 3, -1,  0, 3),\n",
       "M(-1, -2, -2, -2, 0, 0, -3, -4, 3,  0, -1, 3),\n",
       "M( 0, -2, -2, -2, 1, 1, -4, -4, 4, -1, -1, 5),\n",
       "M( 0,  0, -1, -1, 1, 1, -2, -2, 2,  0,  0, 3),\n",
       "M( 0, -1, -1,  0, 1, 2, -3, -2, 4, -1, -1, 4),\n",
       "M(-1, -2, -1, -2, 0, 2, -4, -4, 5, -2, -1, 5),\n",
       "M(-2, -3, -3, -2, 0, 0, -4, -6, 5,  0, -2, 5),\n",
       "M( 0,  0, -1, -1, 0, 1, -2, -2, 2,  0,  0, 3),\n",
       "M(-1, -2, -1, -2, 0, 1, -3, -4, 4, -1, -1, 4),\n",
       "M(-1, -3, -2, -2, 1, 1, -5, -5, 5, -1, -1, 5),\n",
       "M( 0, -2, -2, -2, 1, 1, -4, -4, 4, -1,  0, 5),\n",
       "M( 0, -1, -1,  0, 0, 1, -2, -2, 3,  0, -1, 3),\n",
       "M(-1, -2, -2, -1, 0, 1, -3, -4, 4,  0, -2, 4),\n",
       "M( 0, -1, -1,  0, 1, 1, -2, -2, 3,  0, -1, 3),\n",
       "M(-1, -2, -2, -1, 0, 0, -3, -4, 3,  0, -1, 3),\n",
       "M(-1, -2, -2, -1, 0, 2, -4, -4, 5, -1, -2, 5),\n",
       "M( 0, -1, -2, -1, 1, 1, -3, -3, 3,  0, -1, 4),\n",
       "M(-1, -2, -3, -2, 0, 1, -4, -5, 4,  0, -2, 5),\n",
       "M(-1, -1, -2, -1, 0, 0, -2, -3, 3,  0, -1, 3),\n",
       "M( 0, -1, -1, -1, 0, 1, -2, -2, 3,  0, -1, 3),\n",
       "M(-1, -2, -3, -2, 1, 0, -4, -5, 4,  0, -1, 5),\n",
       "M( 0, -1, -1, -1, 0, 0, -2, -2, 2,  0,  0, 2),\n",
       "M(-1, -1, -2, -1, 0, 1, -3, -3, 3,  0, -1, 3),\n",
       "M( 0, -2, -2, -2, 1, 1, -4, -4, 4,  0, -1, 5),\n",
       "M(-1, -1, -2, -1, 0, 1, -2, -3, 3,  0, -1, 3),\n",
       "M(-1, -2, -2, -2, 0, 0, -3, -4, 4,  0, -1, 4),\n",
       "M(-1, -2, -2, -2, 0, 1, -4, -4, 4,  0, -1, 4),\n",
       "M( 0, -1, -1,  0, 1, 2, -3, -2, 5, -1, -1, 5),\n",
       "M( 0, -2, -1, -1, 1, 2, -4, -3, 5, -2, -1, 5),\n",
       "M(-1, -2, -3, -2, 0, 1, -4, -5, 5,  0, -2, 5),\n",
       "M( 0, -2, -1, -1, 1, 1, -3, -3, 4, -1, -1, 4),\n",
       "M(-1, -3, -2, -2, 0, 1, -4, -5, 5,  0, -2, 5),\n",
       "M( 0, -2, -1, -1, 1, 2, -4, -3, 5, -2,  0, 5),\n",
       "M( 0, -1, -1, -1, 1, 1, -3, -2, 3, -1,  0, 3),\n",
       "M(-1, -1, -2, -2, 0, 2, -4, -4, 4, -1,  0, 5),\n",
       "M( 0, -1, -1, -1, 1, 1, -2, -2, 3, -1,  0, 3),\n",
       "M(-2, -3, -3, -2, 0, 1, -5, -6, 5,  0, -2, 5),\n",
       "M(-1, -3, -2, -2, 0, 1, -4, -5, 5, -1, -2, 5),\n",
       "M( 0, -1, -1, -1, 1, 1, -3, -2, 4, -1,  0, 4),\n",
       "M( 0,  0, -1, -1, 1, 0, -2, -2, 2,  0,  0, 3),\n",
       "M( 0, -2, -2, -2, 1, 1, -4, -4, 5, -1, -1, 5),\n",
       "M(-1, -2, -2, -2, 0, 1, -4, -4, 4, -1,  0, 4),\n",
       "M(-1, -1, -1, -1, 0, 1, -2, -3, 3,  0, -1, 3),\n",
       "M(-1, -1, -1, -1, 0, 1, -3, -3, 3,  0, -1, 3),\n",
       "M(-1, -1, -1, -1, 0, 2, -3, -3, 4, -1, -1, 4),\n",
       "M(-1, -1, -1, -1, 0, 0, -2, -3, 3,  0, -1, 3),\n",
       "M( 0, -1, -1, -2, 2, 1, -4, -3, 4, -1,  0, 5),\n",
       "M(-1, -2, -2, -1, 0, 1, -3, -4, 5,  0, -2, 5),\n",
       "M(-1, -2, -2, -1, 0, 2, -4, -4, 5,  0, -2, 5),\n",
       "M( 0, -1, -1, -1, 1, 1, -2, -2, 3,  0, -1, 3),\n",
       "M( 0, -1, -1, -2, 1, 2, -4, -3, 4, -2,  0, 5),\n",
       "M(-1, -2, -1, -2, 0, 1, -3, -4, 5, -1, -1, 5),\n",
       "M(-1, -1, -2, -1, 0, 1, -3, -3, 4,  0, -1, 4),\n",
       "M( 0,  0,  0,  0, 0, 0, -1, -1, 1,  0,  0, 1),\n",
       "M( 0,  0,  0, -1, 0, 0, -1, -1, 1,  0,  0, 1),\n",
       "M(-1, -1, -2, -2, 0, 2, -4, -4, 4,  0, -1, 5),\n",
       "M(-1, -1, -2, -2, 0, 1, -3, -4, 3,  0, -1, 4),\n",
       "M(-1, -2, -2, -2, 0, 1, -4, -4, 4, -1, -1, 4),\n",
       "M(-2, -1, -3, -2, 0, 1, -4, -5, 4,  0, -1, 5),\n",
       "M( 0,  0,  0, -1, 1, 1, -2, -1, 3, -1,  0, 3),\n",
       "M( 0,  0,  0, -1, 1, 2, -2, -1, 3, -1,  0, 3),\n",
       "M(-1, -1, -1, -2, 0, 1, -3, -3, 3, -1,  0, 3),\n",
       "M( 0, -1, -1, -2, 1, 2, -4, -3, 5, -2,  0, 5),\n",
       "M(-1,  0, -1, -1, 0, 0, -2, -2, 2,  0,  0, 2),\n",
       "M(-1, -1, -2, -2, 0, 2, -4, -4, 5, -1, -1, 5),\n",
       "M(-1, -1, -1, -2, 1, 1, -4, -3, 4, -1,  0, 4),\n",
       "M(-1, -1, -1, -2, 0, 1, -3, -3, 4, -1,  0, 4),\n",
       "M(-1,  0, -1, -2, 1, 2, -4, -3, 4, -1,  0, 5),\n",
       "M( 0, -1, -1, -1, 0, 1, -2, -2, 3, -1,  0, 3),\n",
       "M(-1, -1,  0, -2, 1, 2, -4, -3, 5, -2,  0, 5),\n",
       "M( 0, -1, -1, -1, 0, 1, -2, -2, 3, -1, -1, 3),\n",
       "M( 0,  0,  0,  0, 1, 1, -2, -1, 3, -1,  0, 3),\n",
       "M( 0,  0,  0,  0, 1, 2, -2, -1, 3, -1,  0, 3),\n",
       "M(-1, -1, -1, -1, 0, 1, -3, -3, 3, -1,  0, 3),\n",
       "M(-2, -2, -2, -2, 0, 2, -5, -5, 5, -1, -1, 5),\n",
       "M(-1, -2, -1, -2, 0, 2, -4, -4, 5, -2,  0, 5),\n",
       "M( 0, -1,  0, -1, 1, 2, -3, -2, 5, -2,  0, 5),\n",
       "M(-1, -2, -1, -2, 1, 2, -5, -4, 5, -2,  0, 5),\n",
       "M( 0, -1,  0, -1, 2, 2, -4, -2, 5, -2,  0, 5),\n",
       "M(-2, -2, -3, -2, 0, 0, -4, -5, 4,  0, -1, 4),\n",
       "M( 0,  0,  0,  0, 2, 2, -3, -1, 4, -1,  0, 5),\n",
       "M(-1, -2, -1, -1, 0, 1, -3, -3, 4, -1, -1, 4),\n",
       "M(-1, -2, -1, -1, 0, 1, -3, -3, 4, -1,  0, 4),\n",
       "M(-1,  0, -1, -1, 1, 1, -3, -2, 3,  0,  0, 4),\n",
       "M(-2, -1, -2, -2, 0, 0, -3, -4, 3,  0,  0, 4),\n",
       "M(-2, -2, -1, -2, 0, 1, -4, -4, 4, -1,  0, 4),\n",
       "M(-1, -1,  0, -1, 1, 1, -3, -2, 4, -1,  0, 4),\n",
       "M( 0,  0,  0, -1, 1, 1, -1, -1, 2,  0,  0, 3),\n",
       "M( 0,  0,  0, -1, 1, 1, -2, -1, 2,  0,  0, 3),\n",
       "M(-1, -1, -1, -2, 0, 0, -2, -3, 2,  0,  0, 3),\n",
       "M(-1, -1,  0, -1, 0, 0, -2, -2, 2,  0,  0, 2),\n",
       "M(-1, -1,  0, -2, 1, 1, -3, -3, 4, -1,  0, 5),\n",
       "M(-1, -2,  0, -1, 1, 2, -4, -3, 5, -2,  0, 5),\n",
       "M( 0, -1, -2, -1, 1, 1, -3, -3, 3,  0,  0, 5),\n",
       "M(-1, -1, -2, -1, 0, 1, -3, -3, 3,  0,  0, 4),\n",
       "M(-1,  0, -2, -1, 1, 1, -3, -3, 3,  0,  0, 5),\n",
       "M(-1, -1, -2, -1, 1, 0, -3, -3, 3,  0,  0, 4),\n",
       "M(-1, -1, -1,  0, 0, 0, -2, -2, 2,  0,  0, 2),\n",
       "M(-1, -1, -2,  0, 1, 1, -3, -3, 4,  0, -1, 5),\n",
       "M(-1, -1, -2, -1, 0, 0, -2, -3, 2,  0,  0, 3),\n",
       "M( 0, -1, -1,  0, 1, 2, -3, -2, 4, -1,  0, 5),\n",
       "M( 0,  0, -1,  0, 1, 1, -2, -1, 2,  0,  0, 3),\n",
       "M( 0,  0, -1,  0, 1, 1, -1, -1, 2,  0,  0, 3),\n",
       "M(-1, -2, -1, -2, 0, 1, -3, -4, 4, -1,  0, 5),\n",
       "M(-2, -3, -2, -2, 0, 0, -4, -5, 4,  0, -1, 4),\n",
       "M(-1, -2, -1,  0, 1, 2, -4, -3, 5, -1, -1, 5),\n",
       "M(-1, -1, -2, -2, 0, 1, -3, -4, 3,  0,  0, 5),\n",
       "M( 0,  0, -1, -1, 1, 2, -3, -2, 3,  0,  0, 5),\n",
       "M(-2, -3, -1, -2, 0, 1, -4, -5, 5, -1, -1, 5),\n",
       "M( 0, -1, -1,  0, 1, 2, -3, -2, 4,  0, -1, 5),\n",
       "M(-2, -3, -2, -1, 0, 1, -4, -5, 5,  0, -2, 5),\n",
       "M(-2, -2, -2, -1, 0, 0, -3, -4, 4,  0, -1, 4),\n",
       "M(-1, -2, -1, -1, 0, 1, -3, -3, 4,  0, -1, 4),\n",
       "M(-1, -2, -2, -2, 0, 0, -3, -4, 3,  0,  0, 4),\n",
       "M( 0, -1, -1, -1, 1, 1, -3, -2, 3,  0,  0, 4),\n",
       "M(-2, -2, -2, -1, 0, 1, -4, -4, 4,  0, -1, 4),\n",
       "M(-1, -2, -1, -1, 1, 1, -4, -3, 4, -1,  0, 4),\n",
       "M(-1, -1, -2, -2, 1, 0, -3, -4, 3,  0,  0, 5),\n",
       "M( 0,  0, -1, -1, 2, 1, -3, -2, 3,  0,  0, 5),\n",
       "M(-2, -2, -2, -2, 0, 0, -3, -5, 4,  0, -1, 5),\n",
       "M(-1, -1, -1, -1, 0, 0, -2, -3, 2,  0,  0, 3),\n",
       "M( 0,  0,  0,  0, 1, 1, -2, -1, 2,  0,  0, 3),\n",
       "M( 0,  0,  0,  0, 1, 1, -1, -1, 2,  0,  0, 3),\n",
       "M(-1, -2, -1, -2, 0, 1, -3, -4, 4,  0, -1, 5),\n",
       "M( 0, -1, -1, -2, 1, 1, -3, -3, 3,  0,  0, 5),\n",
       "M(-1, -1, -1, -2, 0, 1, -3, -3, 3,  0,  0, 4),\n",
       "M(-1,  0, -1, -2, 1, 1, -3, -3, 3,  0,  0, 5),\n",
       "M(-1, -1, -1, -2, 1, 0, -3, -3, 3,  0,  0, 4)\n",
       "in 12-d lattice M"
      ]
     },
     "execution_count": 29,
     "metadata": {},
     "output_type": "execute_result"
    }
   ],
   "source": [
    "Nef=NE.dual()\n",
    "Nef.rays()"
   ]
  },
  {
   "cell_type": "markdown",
   "id": "f0c779df-9e30-4b0d-a8ee-1a328eeedaeb",
   "metadata": {},
   "source": [
    "---\n",
    "The following function, **unique_numintd**, cleans a list of divisors, removing numerically equivalent ones. Numerical equivalence is tested against the list **curves** to be provided in input (a basis of $N_1(X)$).\n",
    "\n",
    "---"
   ]
  },
  {
   "cell_type": "code",
   "execution_count": 30,
   "id": "b659f7f4-963b-450f-a721-bee5ada5a416",
   "metadata": {},
   "outputs": [],
   "source": [
    "#########################################################\n",
    "####### Clear list up to numerical equivalence    #######\n",
    "#########################################################\n",
    "\n",
    "def unique_numintd(div,curves):\n",
    "    seen={}\n",
    "    for d in div:\n",
    "        v=tuple(numint(d,curves))\n",
    "        if v not in seen:\n",
    "            seen[v]=d\n",
    "    return list(seen.values())"
   ]
  },
  {
   "cell_type": "markdown",
   "id": "75f5f1b7-a12a-4ec3-829a-0ee5a4720fd5",
   "metadata": {},
   "source": [
    "---\n",
    "The function **divpos** writes, if possible, a divisor $D$, given as a linear combination of boundary divisors as a linear combination of boundary divisors *with nonnegative coefficients*.\n",
    "This is done by taking the image of $D$ in the Picard group, and looking for a preimage with nonnegative coefficients in the free abelian group generated by the bboundary divisors using the function **preimage**.\n",
    "\n",
    "---"
   ]
  },
  {
   "cell_type": "code",
   "execution_count": 31,
   "id": "8cef21c5-ae89-479b-85e8-9131e52ee7ef",
   "metadata": {},
   "outputs": [],
   "source": [
    "#########################################################\n",
    "#######   Finds a preimage of an element w        #######\n",
    "#######   via the linear map defined by M         #######\n",
    "#######   with nonnegative entries, if possible   #######\n",
    "#########################################################\n",
    "\n",
    "def preimage(M, w):\n",
    "    from sage.numerical.mip import MIPSolverException\n",
    "    p = MixedIntegerLinearProgram(maximization=False, solver=\"GLPK\")\n",
    "    x = p.new_variable(nonnegative=True)\n",
    "    for i in range(M.nrows()):\n",
    "        p.add_constraint(sum(M[i, j] * x[j] for j in range(M.ncols())) == w[i])\n",
    "    try:\n",
    "        p.solve()\n",
    "        v = vector([QQ(p.get_values(x[j])) for j in range(M.ncols())])\n",
    "        nonzero_entries = [a for a in v if a != 0]\n",
    "        if nonzero_entries:\n",
    "            g = gcd(nonzero_entries)\n",
    "            v = v / g\n",
    "        return v\n",
    "    except MIPSolverException:\n",
    "        raise ValueError(\"No nonnegative solution exists\")\n",
    "\n",
    "##############################################################\n",
    "#######   Finds an expression of every divisor in nefrays   ##\n",
    "#######   as a nonnegative combination of boundary divisors ##\n",
    "##############################################################\n",
    "\n",
    "def divpos(D):\n",
    "    v=vector([D.coefficient(v) for v in boundary])\n",
    "    w=Q*v\n",
    "    M=matrix(preimage(Q,w))\n",
    "    return (M*VV)[0,0]              "
   ]
  },
  {
   "cell_type": "markdown",
   "id": "0505f1b3-e50c-4e14-8cf9-35e5838fcf7f",
   "metadata": {},
   "source": [
    "---\n",
    "We write the generators of the nef cone as linear combinations of boundary divisors with non negative coefficients.\n",
    "\n",
    "---"
   ]
  },
  {
   "cell_type": "code",
   "execution_count": 32,
   "id": "b8c8c640-ac4f-415a-9e15-5924cf132cc1",
   "metadata": {},
   "outputs": [],
   "source": [
    "################################################\n",
    "#######   Generators of the Nef cone   #########\n",
    "################################################\n",
    "\n",
    "nefrays=[divpos((matrix(ray)*Mbasis)[0,0]) for ray in Nef.rays()]"
   ]
  },
  {
   "cell_type": "markdown",
   "id": "e4811a85-9da2-421c-ae26-2cf189950d67",
   "metadata": {},
   "source": [
    "---\n",
    "We check that the generators are minimal, finding for each $D$ a curve on which $D$ has degree one.\n",
    "\n",
    "---"
   ]
  },
  {
   "cell_type": "code",
   "execution_count": 33,
   "id": "dec91c11-4e49-42d5-9f1f-85b74818d6c0",
   "metadata": {},
   "outputs": [
    {
     "data": {
      "text/plain": [
       "189"
      ]
     },
     "execution_count": 33,
     "metadata": {},
     "output_type": "execute_result"
    }
   ],
   "source": [
    "###############################################################\n",
    "#######   Check that all the generators are minimal   #########\n",
    "###############################################################\n",
    "\n",
    "gen=[D for D in nefrays if 1 in numint(D,allrays)]\n",
    "len(gen)"
   ]
  },
  {
   "cell_type": "markdown",
   "id": "5b126f5d-34b5-46fe-b92a-9e33aa2ebe78",
   "metadata": {},
   "source": [
    "---\n",
    "We compute the top self-intersection of the minimal generators of every ray of $\\textrm{Nef}(X)$. We obtain that, among the $189$ maximal contractions of $X$, $20$ are of fiber type, and $169$ are birational contractions, with eight possible values of the top self intersection of a minimal supporting divisor $D$: \n",
    "\n",
    "---"
   ]
  },
  {
   "cell_type": "code",
   "execution_count": 34,
   "id": "bce647db-21ff-4fac-9d3c-c128662573c1",
   "metadata": {},
   "outputs": [],
   "source": [
    "########################################################\n",
    "#######   Cubes of generators of the Nef cone   ########\n",
    "########################################################\n",
    "\n",
    "cubes=[inter(D,D^2) for D in nefrays]"
   ]
  },
  {
   "cell_type": "code",
   "execution_count": 35,
   "id": "6ae9cf83-6d3a-411c-a0f6-29c7128169ae",
   "metadata": {},
   "outputs": [
    {
     "data": {
      "text/plain": [
       "[(0, 20),\n",
       " (1, 6),\n",
       " (2, 24),\n",
       " (4, 6),\n",
       " (5, 48),\n",
       " (14, 6),\n",
       " (16, 15),\n",
       " (18, 16),\n",
       " (22, 48)]"
      ]
     },
     "execution_count": 35,
     "metadata": {},
     "output_type": "execute_result"
    }
   ],
   "source": [
    "###################################################################\n",
    "#######   Possible degrees of generators of the Nef cone   ########\n",
    "###################################################################\n",
    "\n",
    "[(x,cubes.count(x)) for x in Set(cubes)]"
   ]
  },
  {
   "cell_type": "code",
   "execution_count": 36,
   "id": "ec86b702-6474-41eb-89e5-f61c0c3c2141",
   "metadata": {},
   "outputs": [],
   "source": [
    "################################################\n",
    "#######   List  generators of degree k   #######\n",
    "################################################\n",
    "\n",
    "def degree(k):\n",
    "    indices=[i for i in range(len(cubes)) if cubes[i]==k]\n",
    "    return indices,[nefrays[j] for j in indices]"
   ]
  },
  {
   "cell_type": "code",
   "execution_count": 37,
   "id": "4c8517ce-3c52-451f-a88a-5d67b4563b9f",
   "metadata": {},
   "outputs": [],
   "source": [
    "notbig=degree(0)"
   ]
  },
  {
   "cell_type": "markdown",
   "id": "7b7853ce-b99a-49f5-aba6-f436ff460dc3",
   "metadata": {},
   "source": [
    "### Proposition 8.6"
   ]
  },
  {
   "cell_type": "markdown",
   "id": "e930d6fd-23ce-4f41-b35f-5ede1e107eb1",
   "metadata": {},
   "source": [
    "---\n",
    "Using the intersection theory rules  we see that, out of the $20$ extremal rays supporting fiber type contractions, $9$ of them are generated by divisors whose squares are numerically trivial.\n",
    "Equivalently the targets of these contractions are curves; since these curves are necessarily rational, then they are projective lines.\n",
    "\n",
    "---"
   ]
  },
  {
   "cell_type": "code",
   "execution_count": 38,
   "id": "92520ab8-73f0-4e99-99ce-f11502fb15c7",
   "metadata": {},
   "outputs": [],
   "source": [
    "###############################################################################\n",
    "#######   Divide contractions of curves and contractions to surfaces  #########\n",
    "###############################################################################\n",
    "\n",
    "surfaces = []\n",
    "P1 = []\n",
    "\n",
    "for i in notbig[0]:\n",
    "    sq = numint(nefrays[i]*nefrays[i],basis)\n",
    "    if sq == 0:\n",
    "        P1.append(i)\n",
    "    else:\n",
    "        surfaces.append(i)"
   ]
  },
  {
   "cell_type": "code",
   "execution_count": 39,
   "id": "0ca1c7dc-cc9e-43bf-b309-b01e7927ecb7",
   "metadata": {
    "scrolled": true
   },
   "outputs": [
    {
     "data": {
      "text/plain": [
       "[B1 + C01 + D01,\n",
       " B0 + C01 + D01,\n",
       " B0 + C03 + D03,\n",
       " B0 + C02 + D02,\n",
       " C01 + C23 + D01 + D23,\n",
       " A1 + C23 + D01,\n",
       " A0 + C23 + D01,\n",
       " A3 + C01 + D23,\n",
       " A2 + C01 + D23]"
      ]
     },
     "execution_count": 39,
     "metadata": {},
     "output_type": "execute_result"
    }
   ],
   "source": [
    "#######################################\n",
    "#######   Contractions to P1  #########\n",
    "#######################################\n",
    "\n",
    "[nefrays[i] for i in P1]"
   ]
  },
  {
   "cell_type": "markdown",
   "id": "fad7cd3f-e0f2-4f30-91de-b216ed4252bb",
   "metadata": {},
   "source": [
    "--- \n",
    "Among the supporting divisors of these contractions, there is a $W(\\tau)$-orbit containing $8$ elements, consisting of the $W$-orbits of $B_0+C_{01}+D_{01}$ and $A_0+C_{23}+D_{01}$\n",
    "\n",
    "---"
   ]
  },
  {
   "cell_type": "code",
   "execution_count": 40,
   "id": "3613d810-f0fe-4386-8bfe-df3e7e041f01",
   "metadata": {},
   "outputs": [
    {
     "data": {
      "text/plain": [
       "[B0 + C01 + D01, B1 + C13 + D13, B0 + C02 + D02, B3 + C03 + D03]"
      ]
     },
     "execution_count": 40,
     "metadata": {},
     "output_type": "execute_result"
    }
   ],
   "source": [
    "unique_numintd(permute('B0+C01+D01'),raybasis)"
   ]
  },
  {
   "cell_type": "code",
   "execution_count": 41,
   "id": "8a1ae101-0022-4ca4-89c8-1b49edd9d4b0",
   "metadata": {},
   "outputs": [
    {
     "data": {
      "text/plain": [
       "((0, 0, 0, 0, 0, 0, 0, 0, 0, 0, 0, 0),\n",
       " (0, 0, 0, 0, 0, 0, 0, 0, 0, 0, 0, 0),\n",
       " (0, 0, 0, 0, 0, 0, 0, 0, 0, 0, 0, 0))"
      ]
     },
     "execution_count": 41,
     "metadata": {},
     "output_type": "execute_result"
    }
   ],
   "source": [
    "numint((B2 + C23 + D23) - (B0 + C03 + D03),raybasis), numint((B3 + C03 + D03) - (B1 + C01 + D01),raybasis), numint((B2 + C12 + D12) - (B0 + C01 + D01),raybasis)\n"
   ]
  },
  {
   "cell_type": "code",
   "execution_count": 42,
   "id": "ea7f84b7-c891-4ee4-805d-ff80313714b1",
   "metadata": {},
   "outputs": [
    {
     "data": {
      "text/plain": [
       "[A3 + C02 + D13, A1 + C02 + D13, A1 + C03 + D12, A3 + C12 + D03]"
      ]
     },
     "execution_count": 42,
     "metadata": {},
     "output_type": "execute_result"
    }
   ],
   "source": [
    "unique_numintd(permute('A0+C23+D01'),raybasis)"
   ]
  },
  {
   "cell_type": "code",
   "execution_count": 43,
   "id": "b2eff094-8c4d-4629-956e-aa3f08179c5b",
   "metadata": {
    "scrolled": true
   },
   "outputs": [
    {
     "data": {
      "text/plain": [
       "((0, 0, 0, 0, 0, 0, 0, 0, 0, 0, 0, 0),\n",
       " (0, 0, 0, 0, 0, 0, 0, 0, 0, 0, 0, 0),\n",
       " (0, 0, 0, 0, 0, 0, 0, 0, 0, 0, 0, 0))"
      ]
     },
     "execution_count": 43,
     "metadata": {},
     "output_type": "execute_result"
    }
   ],
   "source": [
    "numint((A3 + C02 + D13) - (A0 + C23 + D01),raybasis), numint((A0 + C12 + D03) - (A2 + C01 + D23),raybasis), numint((A2 + C13 + D02) - (A1 + C23 + D01),raybasis)"
   ]
  },
  {
   "cell_type": "markdown",
   "id": "91b131dd-7fa7-4914-b79b-eeb2f76289ac",
   "metadata": {},
   "source": [
    "### Proposition 8.7"
   ]
  },
  {
   "cell_type": "markdown",
   "id": "5420bd09-1d06-421e-8f56-377da77ab00c",
   "metadata": {},
   "source": [
    "---\n",
    "Examining the remaining $11$ fiber type contractions (whose image is a surface), we checked that there are three $W(\\tau)$-orbits, containing, respectively, $1$, $2$ and $8$ elements. The following divisors support one contraction of each class:\n",
    "\n",
    "- $A_0 + B_0 + D_{01} + D_{02} + D_{03}$;\n",
    "- $A_2 + A_3 + C_{01} + D_{23}$;\n",
    "- $B_0 + C_{01} + C_{02} + D_{01} + D_{02}$.\n",
    "---"
   ]
  },
  {
   "cell_type": "code",
   "execution_count": 44,
   "id": "e7d175c8-d6f5-41be-96b7-c35f82f99750",
   "metadata": {
    "scrolled": true
   },
   "outputs": [
    {
     "data": {
      "text/plain": [
       "[A0 + B0 + D01 + D02 + D03,\n",
       " B0 + C01 + C23 + D01 + D23,\n",
       " B0 + C01 + C02 + D01 + D02,\n",
       " B0 + B1 + C01 + D01,\n",
       " B1 + C01 + C23 + D01 + D23,\n",
       " B2 + C01 + C23 + D01 + D23,\n",
       " A0 + C01 + C23 + D01 + D23,\n",
       " A2 + A3 + C01 + D23,\n",
       " A1 + C01 + C23 + D01 + D23,\n",
       " A2 + C01 + C23 + D01 + D23,\n",
       " A3 + C01 + C23 + D01 + D23]"
      ]
     },
     "execution_count": 44,
     "metadata": {},
     "output_type": "execute_result"
    }
   ],
   "source": [
    "#############################################\n",
    "#######   Contractions to surfaces  #########\n",
    "#############################################\n",
    "\n",
    "[nefrays[i] for i in surfaces]"
   ]
  },
  {
   "cell_type": "code",
   "execution_count": 45,
   "id": "1b13cd93-b7ea-4611-a145-6d3e95b00e1e",
   "metadata": {},
   "outputs": [
    {
     "data": {
      "text/plain": [
       "[A0 + B0 + D01 + D02 + D03]"
      ]
     },
     "execution_count": 45,
     "metadata": {},
     "output_type": "execute_result"
    }
   ],
   "source": [
    "D1=A0 + B0 + D01 + D02 + D03\n",
    "unique_numintd(orbit('A0 + B0 + D01 + D02 + D03'),raybasis)"
   ]
  },
  {
   "cell_type": "code",
   "execution_count": 46,
   "id": "f5f430d5-512b-46bf-a149-97f95c0af960",
   "metadata": {},
   "outputs": [
    {
     "data": {
      "text/plain": [
       "[A2 + A3 + C01 + D23, B0 + B2 + C02 + D02]"
      ]
     },
     "execution_count": 46,
     "metadata": {},
     "output_type": "execute_result"
    }
   ],
   "source": [
    "D2=A2 + A3 + C01 + D23\n",
    "unique_numintd(orbit('A2 + A3 + C01 + D23'),raybasis)"
   ]
  },
  {
   "cell_type": "code",
   "execution_count": 48,
   "id": "2c19d66c-4540-487c-8921-a067ec952a8d",
   "metadata": {
    "scrolled": true
   },
   "outputs": [
    {
     "name": "stderr",
     "output_type": "stream",
     "text": [
      "IOStream.flush timed out\n"
     ]
    },
    {
     "data": {
      "text/plain": [
       "[A1 + C02 + C23 + D01 + D13,\n",
       " B2 + C12 + C23 + D12 + D23,\n",
       " A0 + C12 + C13 + D02 + D03,\n",
       " A1 + C02 + C03 + D12 + D13,\n",
       " B3 + C03 + C13 + D03 + D13,\n",
       " B2 + C02 + C12 + D02 + D12,\n",
       " A1 + C03 + C23 + D01 + D12,\n",
       " B0 + C02 + C03 + D02 + D03]"
      ]
     },
     "execution_count": 48,
     "metadata": {},
     "output_type": "execute_result"
    }
   ],
   "source": [
    "D3=B0 + C01 + C02 + D01 + D02\n",
    "unique_numintd(orbit('B0 + C01 + C02 + D01 + D02'),raybasis)"
   ]
  },
  {
   "cell_type": "markdown",
   "id": "61b14726-5b31-492c-b748-788c6e69b5f3",
   "metadata": {},
   "source": [
    "---\n",
    "We note that, by means of the relations in the Picard group, the three divisors $D_1,D_2,D_3$ above can be written, respectively as:\n",
    "\n",
    "- $q^*H-C_{01}$;\n",
    "- $2q^*H-(B_2+B_3+C_{01}+D_{02} + D_{03} + D_{12} + D_{13} + D_{23})$;\n",
    "- $2q^*H-(A_1 + B_2 +B_3+ D_{02} + D_{03} + D_{12} + D_{13})$.\n",
    "\n",
    "---"
   ]
  },
  {
   "cell_type": "code",
   "execution_count": 49,
   "id": "5b9b90f4-f141-4c63-94c0-95903654ce4c",
   "metadata": {
    "jupyter": {
     "source_hidden": true
    }
   },
   "outputs": [],
   "source": [
    "qH = A2 + B2 + C01 + D23 + D02 + D12\n",
    "qH2 = A0 + A1 + B2 + B3 + C01 + C23 + D01 + D02 + D03 + D12 + D13 + D23"
   ]
  },
  {
   "cell_type": "code",
   "execution_count": 50,
   "id": "499f31f8-2aac-4985-92bc-05835bf2647c",
   "metadata": {
    "scrolled": true
   },
   "outputs": [
    {
     "data": {
      "text/plain": [
       "((0, 0, 0, 0, 0, 0, 0, 0, 0, 0, 0, 0),\n",
       " (0, 0, 0, 0, 0, 0, 0, 0, 0, 0, 0, 0),\n",
       " (0, 0, 0, 0, 0, 0, 0, 0, 0, 0, 0, 0))"
      ]
     },
     "execution_count": 50,
     "metadata": {},
     "output_type": "execute_result"
    },
    {
     "name": "stderr",
     "output_type": "stream",
     "text": [
      "IOStream.flush timed out\n"
     ]
    }
   ],
   "source": [
    "numint(qH - C01 -D1,raybasis), numint(qH2 -(B2+B3+C01+D02+D03+D12+D13+D23) -D2,raybasis),numint(qH2 -(A0+A1+B2+D02+D03+D12+D13) -D3,raybasis)"
   ]
  },
  {
   "cell_type": "markdown",
   "id": "4d96e98c-1ee6-4a33-b7c1-725948988559",
   "metadata": {},
   "source": [
    "## Section 8.3: $W$-invariant contractions"
   ]
  },
  {
   "cell_type": "markdown",
   "id": "a7d5a5fc-27f9-4b1f-9bfa-35005b7ad8ab",
   "metadata": {},
   "source": [
    "### Proposition 8.11"
   ]
  },
  {
   "cell_type": "markdown",
   "id": "c655caa6-74b4-4ef6-9f12-a9dad8221087",
   "metadata": {},
   "source": [
    "---\n",
    "We check that the cone generated by the rays of the 8 $W(\\tau)$-equivalent contractions to ${\\mathbb P}^1$ contains a big divisor\n",
    "\n",
    "---"
   ]
  },
  {
   "cell_type": "code",
   "execution_count": 51,
   "id": "4033390c-09df-43c3-92d9-3e2cea19858f",
   "metadata": {},
   "outputs": [
    {
     "data": {
      "text/plain": [
       "[2, 3, 5, 9, 23, 27, 41, 58, 115]"
      ]
     },
     "execution_count": 51,
     "metadata": {},
     "output_type": "execute_result"
    }
   ],
   "source": [
    "P1"
   ]
  },
  {
   "cell_type": "code",
   "execution_count": 52,
   "id": "25d118ad-b081-4878-ae6f-cff823bff201",
   "metadata": {},
   "outputs": [
    {
     "data": {
      "text/plain": [
       "288"
      ]
     },
     "execution_count": 52,
     "metadata": {},
     "output_type": "execute_result"
    }
   ],
   "source": [
    "P12=P1[:4]+P1[5:]       # this is the list of contractions to P1 after eliminating the W(tau) invariant element\n",
    " \n",
    "baryP1=sum([nefrays[i] for i in P12])  # we compute the baricenter of the 8 W(tau) equivalent contractions to P1 \n",
    "\n",
    "inter(baryP1,baryP1^2)  # compute its self-intersection to check its bigness"
   ]
  },
  {
   "cell_type": "markdown",
   "id": "cd36dd6f-9665-4305-8247-7deeadbd5d6f",
   "metadata": {},
   "source": [
    "---\n",
    "In order to compute the nef cones of $X(1,2)$, $X(2,3)$, we consider first the \n",
    "intersection of the Nef cone of $X$ with the linear span of $5$ divisors corresponding to the contraction to $X(2)$ \n",
    "and one of the two $W$-orbits with $4$ elements in the set of contractions to ${\\mathbb P}^1$.\n",
    "\n",
    "---"
   ]
  },
  {
   "cell_type": "code",
   "execution_count": 62,
   "id": "e4d1f48d-670e-41b4-90db-a7fa4b6b4d5a",
   "metadata": {},
   "outputs": [],
   "source": [
    "CP12=[P1[i] for i in range(len(P1)) if i not in [5,6,7,8]]\n",
    "CP23=[P1[i] for i in range(len(P1)) if i not in [0,1,2,3]]\n",
    "\n",
    "CP12rays=[nefrays[i] for i in CP12] # two W-orbits of divisors given contractions to P1\n",
    "CP23rays=[nefrays[i] for i in CP23]\n",
    " \n",
    "CP12coords=[s*(numint(c,raybasis)*(M.inverse())) for c in CP12rays for s in (1,-1)]\n",
    "CP23coords=[s*(numint(c,raybasis)*(M.inverse())) for c in CP23rays for s in (1,-1)]\n",
    "\n",
    "N12=Cone(CP12coords, lattice=ToricLattice(12).dual()) \n",
    "N23=Cone(CP23coords, lattice=ToricLattice(12).dual()) \n",
    "\n",
    "Nef12=N12.intersection(Nef)\n",
    "Nef23=N23.intersection(Nef)"
   ]
  },
  {
   "cell_type": "markdown",
   "id": "0e6c705c-bc41-4a7e-8fad-98132116a129",
   "metadata": {},
   "source": [
    "--- \n",
    "Then we compute the rays of these two cones, and check that they are generating by divisors supporting the five initial contractions to ${\\mathbb P}^1$, and five contractions to ${\\mathbb P}^2$.\n",
    "\n",
    "---"
   ]
  },
  {
   "cell_type": "code",
   "execution_count": 52,
   "id": "6b233730-04eb-42bb-9571-c5adc4a4b54d",
   "metadata": {},
   "outputs": [],
   "source": [
    "Nef12rays=[divpos((matrix(ray)*Mbasis)[0,0]) for ray in Nef12.rays()]\n",
    "Nef23rays=[divpos((matrix(ray)*Mbasis)[0,0]) for ray in Nef23.rays()]"
   ]
  },
  {
   "cell_type": "code",
   "execution_count": 53,
   "id": "eff02554-f856-47c0-8fa0-87b0c4b4d0b4",
   "metadata": {},
   "outputs": [
    {
     "data": {
      "text/plain": [
       "[B1 + C01 + D01,\n",
       " C01 + C23 + D01 + D23,\n",
       " B0 + C01 + D01,\n",
       " B1 + C01 + C23 + D01 + D23,\n",
       " B0 + B1 + C01 + D01,\n",
       " B0 + C03 + D03,\n",
       " B0 + C02 + D02,\n",
       " B0 + C01 + C23 + D01 + D23,\n",
       " B0 + C01 + C02 + D01 + D02,\n",
       " B2 + C01 + C23 + D01 + D23]"
      ]
     },
     "execution_count": 53,
     "metadata": {},
     "output_type": "execute_result"
    }
   ],
   "source": [
    "Nef12rays"
   ]
  },
  {
   "cell_type": "code",
   "execution_count": 54,
   "id": "cfdff03e-2576-4609-9919-d3a5e157d967",
   "metadata": {},
   "outputs": [
    {
     "data": {
      "text/plain": [
       "(0, 0, 0, 0, 0, 0, 0, 0, 0, 0, 0, 0)"
      ]
     },
     "execution_count": 54,
     "metadata": {},
     "output_type": "execute_result"
    }
   ],
   "source": [
    "numint(B0 + C01 + C02 + D01 + D02 - (B3 + C01 + C23 + D01 + D23),raybasis) "
   ]
  },
  {
   "cell_type": "code",
   "execution_count": 55,
   "id": "5296080b-9f35-42b1-9131-096f119c8be1",
   "metadata": {},
   "outputs": [
    {
     "data": {
      "text/plain": [
       "[A1 + C23 + D01,\n",
       " C01 + C23 + D01 + D23,\n",
       " A0 + C23 + D01,\n",
       " A1 + C01 + C23 + D01 + D23,\n",
       " A2 + A3 + C01 + D23,\n",
       " A2 + C01 + D23,\n",
       " A3 + C01 + D23,\n",
       " A0 + C01 + C23 + D01 + D23,\n",
       " A3 + C01 + C23 + D01 + D23,\n",
       " A2 + C01 + C23 + D01 + D23]"
      ]
     },
     "execution_count": 55,
     "metadata": {},
     "output_type": "execute_result"
    }
   ],
   "source": [
    "Nef23rays"
   ]
  },
  {
   "cell_type": "markdown",
   "id": "4093a059-2c17-4915-9e6a-ca4f87e015e0",
   "metadata": {},
   "source": [
    "---\n",
    "We check that the two cones define fiber type contractions, by looking at the self-intersection of their barycenters.\n",
    "\n",
    "---"
   ]
  },
  {
   "cell_type": "code",
   "execution_count": 56,
   "id": "010fc349-f83b-4a99-96fc-524646b9bf25",
   "metadata": {
    "scrolled": true
   },
   "outputs": [
    {
     "data": {
      "text/plain": [
       "(0, 0)"
      ]
     },
     "execution_count": 56,
     "metadata": {},
     "output_type": "execute_result"
    }
   ],
   "source": [
    "bary12=sum(Nef12rays)\n",
    "bary23=sum(Nef23rays)\n",
    "inter(bary12,bary12^2),inter(bary23,bary23^2)"
   ]
  },
  {
   "cell_type": "markdown",
   "id": "15c08bcc-c6a7-4106-9da3-b247dfdeb992",
   "metadata": {},
   "source": [
    "---\n",
    "We finally check that the we cannot add any other $W$-orbit of fiber-type extremal rays to our previously \n",
    "computed cones unless we meet the set of  positive top self-intersection divisors.\n",
    "\n",
    "---"
   ]
  },
  {
   "cell_type": "code",
   "execution_count": 74,
   "id": "d9ecd948-3627-4108-b6d0-d199fd277ea8",
   "metadata": {},
   "outputs": [
    {
     "data": {
      "text/plain": [
       "[1, 6, 8, 10, 12, 14, 82, 114, 124, 151, 158]"
      ]
     },
     "execution_count": 74,
     "metadata": {},
     "output_type": "execute_result"
    }
   ],
   "source": [
    "surfaces"
   ]
  },
  {
   "cell_type": "code",
   "execution_count": 75,
   "id": "7ca61ad0-9e8a-4f92-acab-efd0872588ef",
   "metadata": {},
   "outputs": [
    {
     "data": {
      "text/plain": [
       "[A0 + B0 + D01 + D02 + D03,\n",
       " B0 + C01 + C23 + D01 + D23,\n",
       " B0 + C01 + C02 + D01 + D02,\n",
       " B0 + B1 + C01 + D01,\n",
       " B1 + C01 + C23 + D01 + D23,\n",
       " B2 + C01 + C23 + D01 + D23,\n",
       " A0 + C01 + C23 + D01 + D23,\n",
       " A2 + A3 + C01 + D23,\n",
       " A1 + C01 + C23 + D01 + D23,\n",
       " A2 + C01 + C23 + D01 + D23,\n",
       " A3 + C01 + C23 + D01 + D23]"
      ]
     },
     "execution_count": 75,
     "metadata": {},
     "output_type": "execute_result"
    }
   ],
   "source": [
    "[nefrays[i] for i in surfaces]"
   ]
  },
  {
   "cell_type": "code",
   "execution_count": 77,
   "id": "ed576308-8598-4dd5-9f4f-b3b8bf8ed708",
   "metadata": {},
   "outputs": [
    {
     "data": {
      "text/plain": [
       "(162, 288, 1044, 162, 288, 1044)"
      ]
     },
     "execution_count": 77,
     "metadata": {},
     "output_type": "execute_result"
    }
   ],
   "source": [
    "def DB(idxs):\n",
    "    return sum(nefrays[i] for i in idxs)\n",
    "\n",
    "DB1=DB([6,8,10,12,14, 1])\n",
    "DB2=DB([6,8,10,12,14, 114])\n",
    "DB3=DB([6,8,10,12,14, 82,124,151,158])\n",
    "\n",
    "DB4=DB([82,114,124,151,158, 1])\n",
    "DB5=DB([82,114,124,151,158, 10])\n",
    "DB6=DB([82,114,124,151,158, 6,8,12,14])\n",
    "\n",
    "inter(DB1,DB1^2), inter(DB2,DB2^2), inter(DB3,DB3^2), inter(DB4,DB4^2), inter(DB5,DB5^2), inter(DB6,DB6^2)"
   ]
  },
  {
   "cell_type": "markdown",
   "id": "42141280-e24c-4ff8-a113-5b4e8e411a28",
   "metadata": {},
   "source": [
    "## Section 8.4: The Effective cone"
   ]
  },
  {
   "cell_type": "markdown",
   "id": "e3ee99b9-2a78-4f23-aebe-033154349f8a",
   "metadata": {},
   "source": [
    "---\n",
    "We introduce four new divisors, $H01$, $H02$, $H03$ and $CS$: the strict transforms of three planes and the strict transform of a Cayley cubic surface.\n",
    "\n",
    "---"
   ]
  },
  {
   "cell_type": "code",
   "execution_count": 60,
   "id": "3d2dc70c-34d7-4340-a331-3052a72d6f98",
   "metadata": {},
   "outputs": [
    {
     "data": {
      "text/plain": [
       "A2 + B2 - D01 + D02 + D12"
      ]
     },
     "execution_count": 60,
     "metadata": {},
     "output_type": "execute_result"
    }
   ],
   "source": [
    "H01=pull['pA2']-C01-D01-D23; H01"
   ]
  },
  {
   "cell_type": "code",
   "execution_count": 61,
   "id": "6d35d204-a224-4994-9e17-3c00991ecd48",
   "metadata": {},
   "outputs": [
    {
     "data": {
      "text/plain": [
       "A1 + B1 + D01 - D02 + D12"
      ]
     },
     "execution_count": 61,
     "metadata": {},
     "output_type": "execute_result"
    }
   ],
   "source": [
    "H02=pull['pB1']-C01-D02-D13; H02"
   ]
  },
  {
   "cell_type": "code",
   "execution_count": 62,
   "id": "93ec6d3d-c408-4d26-95fa-f460bee4fdc7",
   "metadata": {},
   "outputs": [
    {
     "data": {
      "text/plain": [
       "A0 + B0 + D01 + D02 - D12"
      ]
     },
     "execution_count": 62,
     "metadata": {},
     "output_type": "execute_result"
    }
   ],
   "source": [
    "H03=pull['pB0']-C01-D03-D12; H03"
   ]
  },
  {
   "cell_type": "markdown",
   "id": "c476551c-0067-4e6f-9d56-cfb9dddb87e0",
   "metadata": {},
   "source": [
    "---\n",
    "We check that $\\{H01, H02,H03\\}$ is an orbit.\n",
    "\n",
    "---"
   ]
  },
  {
   "cell_type": "code",
   "execution_count": 63,
   "id": "23b47809-70f6-4dd2-bbb9-6011fd89e289",
   "metadata": {},
   "outputs": [
    {
     "data": {
      "text/plain": [
       "[A2 + B2 + D12 - D13 + D23,\n",
       " A0 + B0 + D02 + D03 - D23,\n",
       " A1 + B1 + D01 - D03 + D13]"
      ]
     },
     "execution_count": 63,
     "metadata": {},
     "output_type": "execute_result"
    }
   ],
   "source": [
    "unique_numintd(orbit('A2 + B2 - D01 + D02 + D12'),raybasis)"
   ]
  },
  {
   "cell_type": "code",
   "execution_count": 64,
   "id": "d54602d5-b911-4186-b9d2-079a9ef394da",
   "metadata": {},
   "outputs": [
    {
     "data": {
      "text/plain": [
       "A1 + B2 + C02 + C23 - D03"
      ]
     },
     "execution_count": 64,
     "metadata": {},
     "output_type": "execute_result"
    }
   ],
   "source": [
    "CS=pull['pC23']+pull['pC02']-(A0+A1+C01+B2+B3+D01+D23+2*(D02+D03+D13+D12)); CS"
   ]
  },
  {
   "cell_type": "markdown",
   "id": "5615e7f3-6c0e-4579-af1e-4a128cf8c345",
   "metadata": {},
   "source": [
    "---\n",
    "We check that $\\{CS\\}$ is an orbit.\n",
    "\n",
    "---"
   ]
  },
  {
   "cell_type": "code",
   "execution_count": 79,
   "id": "4810e866-81b9-484a-a61a-ef23274a90b8",
   "metadata": {},
   "outputs": [
    {
     "data": {
      "text/plain": [
       "[A1 + B2 + C02 + C23 - D03]"
      ]
     },
     "execution_count": 79,
     "metadata": {},
     "output_type": "execute_result"
    }
   ],
   "source": [
    "unique_numintd(orbit('A1 + B2 + C02 + C23 - D03'),raybasis)"
   ]
  },
  {
   "cell_type": "markdown",
   "id": "f62130bd-3b1e-463c-a24f-ed7bdced42c6",
   "metadata": {},
   "source": [
    "---\n",
    "We construct the cone $\\mathcal E$ in $N^1(X)$ generated by the boundary divisors and these four divisors\n",
    "\n",
    "---"
   ]
  },
  {
   "cell_type": "code",
   "execution_count": 81,
   "id": "956b158e-26e4-4af8-b287-24efd244c12e",
   "metadata": {},
   "outputs": [],
   "source": [
    "####################################\n",
    "#####    Coordinates in Pic(X)   ###\n",
    "####################################\n",
    "\n",
    "H01Q=Q*coeffs(H01,boundary)\n",
    "H02Q=Q*coeffs(H02,boundary)\n",
    "H03Q=Q*coeffs(H03,boundary)\n",
    "CSQ=Q*coeffs(CS,boundary)\n",
    "\n",
    "###################################################################################################\n",
    "######  Columns of Q_eff contain the coordinates of the 24 divisors with respect to basis     #####\n",
    "###################################################################################################\n",
    "\n",
    "Q_eff = Q[:]\n",
    "for v in [CSQ,H01Q,H02Q,H03Q]:\n",
    "    Q_eff = Q_eff.augment(v)\n",
    "\n",
    "#############################################################################################################\n",
    "######## Cone generated by the image in Pic(X) of the boundary divisors + 4 special and its dual   ##########\n",
    "#############################################################################################################\n",
    "\n",
    "rays = [Q_eff.column(i) for i in range(Q_eff.ncols())]\n",
    "E = Cone(rays=rays)\n",
    "\n",
    "####################################\n",
    "######  Dual of the cone E  ########\n",
    "####################################\n",
    "\n",
    "DE=E.dual()\n",
    "dual=Cone(list(matrix(DE.rays())))"
   ]
  },
  {
   "cell_type": "markdown",
   "id": "9379be17-7d98-4929-9ab1-72c493abe059",
   "metadata": {},
   "source": [
    "### Remark 8.12"
   ]
  },
  {
   "cell_type": "markdown",
   "id": "3e500ced-d46e-46c6-bd3b-3858f4d4932d",
   "metadata": {},
   "source": [
    "---\n",
    "We check that $\\mathcal E$ has 24 extremal rays, so the classes of all the divisors that we considered generate an extremal ray. \n",
    "\n",
    "---"
   ]
  },
  {
   "cell_type": "code",
   "execution_count": 82,
   "id": "0c77ce4b-b573-4ca3-b664-0ff277eef08b",
   "metadata": {},
   "outputs": [
    {
     "data": {
      "text/plain": [
       "(294, 3583, 14884, 30821, 37672, 29728, 15880, 5854, 1480, 246, 24, 1)"
      ]
     },
     "execution_count": 82,
     "metadata": {},
     "output_type": "execute_result"
    }
   ],
   "source": [
    "PDE = DE.polyhedron()\n",
    "faces = PDE.f_vector()[2:]; faces"
   ]
  },
  {
   "cell_type": "markdown",
   "id": "f481ee36-6fdd-471d-b351-a9082320ae8a",
   "metadata": {},
   "source": [
    "### Theorem 8.13"
   ]
  },
  {
   "cell_type": "markdown",
   "id": "be5f9596-c621-429d-97f0-d393786554db",
   "metadata": {},
   "source": [
    "#### Step 1 of the Proof of Theorem 8.13"
   ]
  },
  {
   "cell_type": "markdown",
   "id": "63768c13-0e95-4992-8d5d-0cd7d80971bc",
   "metadata": {},
   "source": [
    "---\n",
    "Check that the numerical classes of the curves $A_i * B_j$ are a set of generators  for the linear span of the face of $NE(X)$ on which $-K_X$ is trivial. The classes $A_i * B_j$ are the first sixteen columns of the following matrix, which contains the classes generating the $K_X$ trivial face.\n",
    "\n",
    "---"
   ]
  },
  {
   "cell_type": "code",
   "execution_count": 72,
   "id": "95852c6b-b7d9-4d71-b654-f42eb49cdb8a",
   "metadata": {},
   "outputs": [
    {
     "data": {
      "text/plain": [
       "[-1 -1 -1 -1  0  0  0  0  0  0  0  0  0  0  0  0  0  0  0]\n",
       "[ 0  0  0  0 -1 -1 -1 -1  0  0  0  0  0  0  0  0  0  0  0]\n",
       "[ 0  0  0  0  0  0  0  0 -1 -1 -1 -1  0  0  0  0  0  0  0]\n",
       "[ 0  0  0  0  0  0  0  0  0  0  0  0 -1 -1 -1 -1  0  0  0]\n",
       "[-1  0  0  0 -1  0  0  0 -1  0  0  0 -1  0  0  0  0  0  0]\n",
       "[ 0 -1  0  0  0 -1  0  0  0 -1  0  0  0 -1  0  0  0  0  0]\n",
       "[ 0  0 -1  0  0  0 -1  0  0  0 -1  0  0  0 -1  0  0  0  0]\n",
       "[ 1  1  1  0  1  1  1  0  1  1  1  0  1  1  1  0  0  0  0]\n",
       "[ 0  0  0  0  0  0  0  0  1  1  0  0  1  1  0  0 -1  0  0]\n",
       "[ 0  0  0  0  1  0  1  0  0  0  0  0  1  0  1  0  0 -1  0]\n",
       "[ 0  0  0  0  1  0  0  1  1  0  0  1  0  0  0  0  0  0 -1]\n",
       "[ 1  1  0  0  1  1  0  0  0  0  0  0  0  0  0  0  1  0  0]"
      ]
     },
     "execution_count": 72,
     "metadata": {},
     "output_type": "execute_result"
    }
   ],
   "source": [
    "M=matrix([numint(c,basis) for c in smallrays]).transpose();M"
   ]
  },
  {
   "cell_type": "code",
   "execution_count": 73,
   "id": "c421ed8d-2ef6-481c-b2a6-5cdeea3d46b0",
   "metadata": {},
   "outputs": [
    {
     "data": {
      "text/plain": [
       "[ 1  0  0  0  0  0  0 -1  0  0  0 -1  0 -1 -1 -1  0  0  1]\n",
       "[ 0  1  0  0  0  0  0 -1  0  1  0  0  0  0  0 -1  0 -1  0]\n",
       "[ 0  0  1  0  0  0  0  1  0 -1  0  0  0  1  1  1  0  1 -1]\n",
       "[ 0  0  0  1  0  0  0  1  0  0  0  1  0  0  0  1  0  0  0]\n",
       "[ 0  0  0  0  1  0  0  1  0 -1  0  1  0  0  1  1  1  0 -1]\n",
       "[ 0  0  0  0  0  1  0  1  0  0  0  0  0  1  0  1  0  1  0]\n",
       "[ 0  0  0  0  0  0  1 -1  0  1  0 -1  0 -1 -1 -2 -1 -1  1]\n",
       "[ 0  0  0  0  0  0  0  0  1  1  0  0  0  0 -1 -1 -1  0  0]\n",
       "[ 0  0  0  0  0  0  0  0  0  0  1  1  0  0  1  1  1  0  0]\n",
       "[ 0  0  0  0  0  0  0  0  0  0  0  0  1  1  1  1  0  0  0]\n",
       "[ 0  0  0  0  0  0  0  0  0  0  0  0  0  0  0  0  0  0  0]\n",
       "[ 0  0  0  0  0  0  0  0  0  0  0  0  0  0  0  0  0  0  0]"
      ]
     },
     "execution_count": 73,
     "metadata": {},
     "output_type": "execute_result"
    }
   ],
   "source": [
    "M.rref()"
   ]
  },
  {
   "cell_type": "markdown",
   "id": "56e921c5-352c-4d63-a081-9a1027016b6c",
   "metadata": {},
   "source": [
    "---\n",
    "Check the numerical classes of curves in formulae (17) and (18), and their intersection numbers with the exceptional loci.\n",
    "\n",
    "---"
   ]
  },
  {
   "cell_type": "code",
   "execution_count": 70,
   "id": "445044f6-a093-4cb9-912a-03a5185512eb",
   "metadata": {},
   "outputs": [
    {
     "data": {
      "text/plain": [
       "(0, 0, 0, 0, 0, 0, 0, 0, 0, 0, 0, 0, 0, 0, 1, 1, 1, 1, 1, 1)"
      ]
     },
     "execution_count": 70,
     "metadata": {},
     "output_type": "execute_result"
    }
   ],
   "source": [
    "numint(A0*B0 + A1*B1 + C01*C23 + A0*D01 + B0*D01, boundary)"
   ]
  },
  {
   "cell_type": "code",
   "execution_count": 71,
   "id": "ce77fe38-5d73-46cd-8f5c-4621b4c3df7e",
   "metadata": {},
   "outputs": [
    {
     "data": {
      "text/plain": [
       "-1"
      ]
     },
     "execution_count": 71,
     "metadata": {},
     "output_type": "execute_result"
    }
   ],
   "source": [
    "inter(CS,A0*B0 + A1*B1 + C01*C23 + A0*D01 + B0*D01)"
   ]
  },
  {
   "cell_type": "code",
   "execution_count": 72,
   "id": "8c831ada-b9b5-4218-b2f1-be743f5759e8",
   "metadata": {},
   "outputs": [
    {
     "data": {
      "text/plain": [
       "(0, 0, 0, 0, 0, 0, 0, 0, 0, 1, 1, 1, 1, 0, 1, 0, 0, 0, 0, 1)"
      ]
     },
     "execution_count": 72,
     "metadata": {},
     "output_type": "execute_result"
    }
   ],
   "source": [
    "numint(A0*B1 + A3*B2 + A0*C12 + B1*C12 - C03*C12, boundary)"
   ]
  },
  {
   "cell_type": "code",
   "execution_count": 73,
   "id": "3e5e4fa2-b0a1-4d9c-a98f-050633b9621b",
   "metadata": {},
   "outputs": [
    {
     "data": {
      "text/plain": [
       "-1"
      ]
     },
     "execution_count": 73,
     "metadata": {},
     "output_type": "execute_result"
    }
   ],
   "source": [
    "inter(H01, A0*B1 + A3*B2 + A0*C12 + B1*C12 - C03*C12)"
   ]
  },
  {
   "cell_type": "markdown",
   "id": "62d3b603-e7a0-47ec-af91-b542bca9558b",
   "metadata": {},
   "source": [
    "#### Step 2 of the Proof of Theorem 8.13"
   ]
  },
  {
   "cell_type": "code",
   "execution_count": 83,
   "id": "a4d71641-832a-44b1-9f4d-aa1515637bda",
   "metadata": {},
   "outputs": [
    {
     "data": {
      "text/plain": [
       "True"
      ]
     },
     "execution_count": 83,
     "metadata": {},
     "output_type": "execute_result"
    }
   ],
   "source": [
    "######################################################################\n",
    "########    Classes of curves contained in C_1^bir(X)     ############\n",
    "######################################################################\n",
    "\n",
    "curvesD=[A0*D01, B0*D01, A0*D02, B0*D02, A0*D03, B0*D03, A1*D12, B1*D12, A1*D13, B1*D13, A2*D23, B2*D23]\n",
    "curvesC=[A0*C23, B2*C23, A2*C01, B0*C01, A1*C02, B0*C02, A0*C12, B1*C12, A1*C03, B0*C03, A0*C13,B1*C13]\n",
    "curvesA1=list(orbit('A0*B1+A0*D01'))\n",
    "curvesA2=list(orbit('A0*B1+A0*C12'))\n",
    "curvesA3=list(orbit('A0*B0+A0*D01'))\n",
    "curvesX=list(orbit('A0*B0 + A1*B1 + C01*C23 + A0*D01 + B0*D01'))\n",
    "curvesY=list(orbit('A0*B1 + A3*B2 + A0*C12 + B1*C12 - C03*C12'))\n",
    "divrays=curvesC+curvesD+curvesA1+curvesA2+curvesA3+curvesX+curvesY\n",
    "\n",
    "####################################################################\n",
    "########    Define a cone C contained in C_1^bir(X)     ############\n",
    "####################################################################\n",
    "\n",
    "cray=[]\n",
    "for i in range(len(divrays)):\n",
    "    cray.append(numint(divrays[i],basis)) \n",
    "C=Cone(cray)\n",
    "\n",
    "###################################################\n",
    "########    Check that C contains DE   ############\n",
    "###################################################\n",
    "\n",
    "all(dual.ray(i) in C for i in range(dual.nrays()))"
   ]
  },
  {
   "cell_type": "code",
   "execution_count": null,
   "id": "e98a93d1-c60f-4bb6-9d57-2415dff8a4e2",
   "metadata": {},
   "outputs": [],
   "source": []
  }
 ],
 "metadata": {
  "kernelspec": {
   "display_name": "SageMath 10.5",
   "language": "sage",
   "name": "sagemath-10.5"
  },
  "language_info": {
   "codemirror_mode": {
    "name": "ipython",
    "version": 3
   },
   "file_extension": ".py",
   "mimetype": "text/x-python",
   "name": "python",
   "nbconvert_exporter": "python",
   "pygments_lexer": "ipython3",
   "version": "3.12.5"
  }
 },
 "nbformat": 4,
 "nbformat_minor": 5
}
