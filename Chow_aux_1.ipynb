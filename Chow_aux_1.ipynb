{
 "cells": [
  {
   "cell_type": "markdown",
   "id": "e337b7de-252f-48d4-828f-f17c7f4c2c78",
   "metadata": {},
   "source": [
    "---\n",
    "#### This file contains the computation needed in Sections 4 and 5 of the paper \"Quotients of flag varieties and their birational geometry\" by Barban, Occhetta and Solá Conde\n",
    "---"
   ]
  },
  {
   "cell_type": "markdown",
   "id": "69b55038-9bcd-4062-8c95-5d0b890741ef",
   "metadata": {
    "jp-MarkdownHeadingCollapsed": true
   },
   "source": [
    "# Section 4: Affine charts and their quotients"
   ]
  },
  {
   "cell_type": "markdown",
   "id": "c32fa046-bdde-4574-9409-a660f974018c",
   "metadata": {
    "jp-MarkdownHeadingCollapsed": true
   },
   "source": [
    "## Section 4.2. The combinatorial quotient of the Lie algebra of upper triangular matrices."
   ]
  },
  {
   "cell_type": "markdown",
   "id": "9731d195-0851-4ded-b04e-741a3fe23d7f",
   "metadata": {},
   "source": [
    "### Proposition 4.1"
   ]
  },
  {
   "cell_type": "markdown",
   "id": "dc4a72dc-520d-4f80-a910-84ba6b9e5bdc",
   "metadata": {},
   "source": [
    "We define the map $\\pi:\\text{N}(T)\\to\\text{N}(T/H)$, associated to the weight map of the $H$-action on $F_e$."
   ]
  },
  {
   "cell_type": "code",
   "execution_count": 3,
   "id": "cb7a9830-3c48-48cf-894b-86fe20612eae",
   "metadata": {},
   "outputs": [],
   "source": [
    "M = matrix([[-1,-1,0,1,0,0],[0,-1,-1,0,1,0],[-1,-1,-1,0,0,1]])"
   ]
  },
  {
   "cell_type": "markdown",
   "id": "78ecd016-1d34-4a15-a376-ff38f2a28842",
   "metadata": {},
   "source": [
    "---\n",
    "\n",
    "We compute the combinatorial quotient $X_e$ of the affine patch $F_e\\simeq \\mathbb{C}^6$ under the action of $H$.\n",
    "\n",
    "We first introduce the affine toric variety corresponding to $F_e$.\n",
    "\n",
    "---"
   ]
  },
  {
   "cell_type": "code",
   "execution_count": 4,
   "id": "496f60fd-3bd7-460e-ba51-86828dfb35e9",
   "metadata": {},
   "outputs": [],
   "source": [
    "Fe = AffineToricVariety(cone = Cone(identity_matrix(6).rows()))\n",
    "ConesFe = [matrix(r.rays()).transpose() for k in srange(1, 6) for r in Fe.fan(k)]"
   ]
  },
  {
   "cell_type": "markdown",
   "id": "4acd1e3f-0f97-4849-b5a2-cf89b1a72670",
   "metadata": {},
   "source": [
    "---\n",
    "We consider the projection of the cones defining $F_e$ under the quotient map $\\pi$. \n",
    "\n",
    "We remove those which are not strictly convex, and compute the common intersections among the projected ones. We keep only those which have maximal dimension and are not equivalent to existing ones.\n",
    "\n",
    "---"
   ]
  },
  {
   "cell_type": "code",
   "execution_count": 5,
   "id": "4258011e-9b6d-4d29-907d-6b2ca2255f34",
   "metadata": {},
   "outputs": [],
   "source": [
    "###################################\n",
    "### Compute the projected cones ###\n",
    "###################################\n",
    "\n",
    "ProjectedCones = [Cone((M*cone).columns()) for cone in ConesFe if Cone((M*cone).columns()).is_strictly_convex()]\n",
    "\n",
    "##########################################################\n",
    "### Take common intersection among the projected cones ###\n",
    "##########################################################\n",
    "\n",
    "NewCones = [] \n",
    "for i in range(len(ProjectedCones)):\n",
    "\tfor j in range(i, len(ProjectedCones)):\n",
    "\t\tc = ProjectedCones[i].intersection(ProjectedCones[j])\n",
    "\t\tif c.dim() == 3 and not any(c.is_equivalent(d) for d in NewCones):\n",
    "\t\t\tNewCones.append(c)\n",
    "\n",
    "###########################################################\n",
    "### Remove the redundant cones contained in other cones ###\n",
    "###########################################################\n",
    "\n",
    "DeletedCones = set()\n",
    "for i in range(len(NewCones)):\n",
    "\t\tif i in DeletedCones:\n",
    "\t\t\tcontinue\n",
    "\t\tfor j in range(i+1, len(NewCones)):\n",
    "\t\t\tif j in DeletedCones:\n",
    "\t\t\t\tcontinue\n",
    "\t\t\tci = NewCones[i]\n",
    "\t\t\tcj = NewCones[j]\n",
    "\t\t\tcint = ci.intersection(cj)\n",
    "\t\t\tif cint.is_equivalent(cj):\n",
    "\t\t\t\tDeletedCones.add(i)\n",
    "\t\t\t\tbreak\n",
    "\t\t\telif cint.is_equivalent(ci):\n",
    "\t\t\t\tDeletedCones.add(j)"
   ]
  },
  {
   "cell_type": "markdown",
   "id": "1bfc60e9-2603-428e-a47b-37907cc2768a",
   "metadata": {},
   "source": [
    "---\n",
    "\n",
    "The combinatorial quotient fan of $F_e$ by $H$ is defined by the strictly convex projected cones, together with their common intersections.\n",
    "\n",
    "---"
   ]
  },
  {
   "cell_type": "code",
   "execution_count": 6,
   "id": "18cb3569-741c-4e45-89ba-ff298b3fa630",
   "metadata": {},
   "outputs": [
    {
     "data": {
      "text/plain": [
       "N( 0, -1, -1),\n",
       "N( 0,  1,  0),\n",
       "N(-1,  0, -1),\n",
       "N(-1, -1, -1),\n",
       "N( 1,  0,  0),\n",
       "N( 0,  0, -1),\n",
       "N( 0,  0,  1)\n",
       "in 3-d lattice N"
      ]
     },
     "execution_count": 6,
     "metadata": {},
     "output_type": "execute_result"
    }
   ],
   "source": [
    "##################################\n",
    "### Combinatorial quotient fan ###\n",
    "##################################\n",
    "\n",
    "QuotientFanCones = [NewCones[i] for i in range(len(NewCones)) if i not in DeletedCones]\n",
    "QuotientFanRays = set()\n",
    "for cone in QuotientFanCones:\n",
    "\tQuotientFanRays.update(cone.rays())\n",
    "QuotientFanRays = list(QuotientFanRays)\n",
    "\n",
    "QuotientFan= Fan(rays = QuotientFanRays, cones = QuotientFanCones)\n",
    "\n",
    "######################################\n",
    "### Combinatorial quotient variety ###\n",
    "######################################\n",
    "\n",
    "Xe = ToricVariety(QuotientFan)\n",
    "\n",
    "##########################################\n",
    "### Rays of the combinatorial quotient ###\n",
    "##########################################\n",
    "\n",
    "Xe.fan().rays()"
   ]
  },
  {
   "cell_type": "markdown",
   "id": "d00edefc-08f9-4ded-ae89-926a41f66e93",
   "metadata": {},
   "source": [
    "---\n",
    "\n",
    "We check the combinatorial quotient $X_e$ is smooth and has Picard number $4$.\n",
    "\n",
    "---"
   ]
  },
  {
   "cell_type": "code",
   "execution_count": 7,
   "id": "51f6ce49-0810-44cd-b140-fd474f0f4ecb",
   "metadata": {},
   "outputs": [
    {
     "data": {
      "text/plain": [
       "(True, 4)"
      ]
     },
     "execution_count": 7,
     "metadata": {},
     "output_type": "execute_result"
    }
   ],
   "source": [
    "Xe.is_smooth(), Xe.rational_class_group().rank()"
   ]
  },
  {
   "cell_type": "markdown",
   "id": "504edf14-6590-4326-b184-0642494527be",
   "metadata": {},
   "source": [
    "### Figure 2\n"
   ]
  },
  {
   "cell_type": "markdown",
   "id": "fd811b22-b1ea-47bb-9610-c6876b260c1c",
   "metadata": {},
   "source": [
    "---\n",
    "The divisor $D = 5C_{02}+3A_1+3B_2+2D_{12}$ is ample, and we compute the associated ample polytope.\n",
    "\n",
    "---"
   ]
  },
  {
   "cell_type": "code",
   "execution_count": 8,
   "id": "b6dca1a6-8e76-4918-ab10-2c8da164fc87",
   "metadata": {},
   "outputs": [
    {
     "data": {
      "text/html": [
       "\n",
       "<iframe srcdoc=\"&lt;!DOCTYPE html&gt;\n",
       "&lt;html&gt;\n",
       "&lt;head&gt;\n",
       "&lt;title&gt;&lt;/title&gt;\n",
       "&lt;meta charset=&quot;utf-8&quot;&gt;\n",
       "&lt;meta name=viewport content=&quot;width=device-width, user-scalable=no, minimum-scale=1.0, maximum-scale=1.0&quot;&gt;\n",
       "&lt;style&gt;\n",
       "\n",
       "    body { margin: 0px; overflow: hidden; }\n",
       "\n",
       "    #menu-container { position: absolute; bottom: 30px; right: 40px; cursor: default; }\n",
       "\n",
       "    #menu-message { position: absolute; bottom: 0px; right: 0px; white-space: nowrap;\n",
       "                    display: none; background-color: #F5F5F5; padding: 10px; }\n",
       "\n",
       "    #menu-content { position: absolute; bottom: 0px; right: 0px;\n",
       "                    display: none; background-color: #F5F5F5; border-bottom: 1px solid black;\n",
       "                    border-right: 1px solid black; border-left: 1px solid black; }\n",
       "\n",
       "    #menu-content div { border-top: 1px solid black; padding: 10px; white-space: nowrap; }\n",
       "\n",
       "    #menu-content div:hover { background-color: #FEFEFE; }\n",
       "\n",
       "    .dark-theme #menu-container { color: white; }\n",
       "\n",
       "    .dark-theme #menu-message { background-color: #181818; }\n",
       "\n",
       "    .dark-theme #menu-content { background-color: #181818; border-color: white; }\n",
       "\n",
       "    .dark-theme #menu-content div { border-color: white; }\n",
       "\n",
       "    .dark-theme #menu-content div:hover { background-color: #303030; }\n",
       "\n",
       "&lt;/style&gt;\n",
       "\n",
       "&lt;/head&gt;\n",
       "\n",
       "&lt;body&gt;\n",
       "\n",
       "&lt;script src=&quot;/nbextensions/threejs-sage/r122/three.min.js&quot;&gt;&lt;/script&gt;\n",
       "&lt;script&gt;\n",
       "  if ( !window.THREE ) document.write(&#x27; \\\n",
       "&lt;script src=&quot;https://cdn.jsdelivr.net/gh/sagemath/threejs-sage@r122/build/three.min.js&quot;&gt;&lt;\\/script&gt; \\\n",
       "            &#x27;);\n",
       "&lt;/script&gt;\n",
       "        \n",
       "&lt;script&gt;\n",
       "\n",
       "    var options = {&quot;animate&quot;: false, &quot;animationControls&quot;: true, &quot;aspectRatio&quot;: [1.0, 1.0, 1.0], &quot;autoScaling&quot;: [false, false, false], &quot;autoPlay&quot;: true, &quot;axes&quot;: false, &quot;axesLabels&quot;: [&quot;x&quot;, &quot;y&quot;, &quot;z&quot;], &quot;axesLabelsStyle&quot;: null, &quot;decimals&quot;: 2, &quot;delay&quot;: 20, &quot;frame&quot;: true, &quot;loop&quot;: true, &quot;projection&quot;: &quot;perspective&quot;, &quot;theme&quot;: &quot;light&quot;, &quot;viewpoint&quot;: false};\n",
       "    var animate = options.animate;\n",
       "\n",
       "    if ( options.theme === &#x27;dark&#x27; )\n",
       "        document.body.className = &#x27;dark-theme&#x27;;\n",
       "\n",
       "    var scene = new THREE.Scene();\n",
       "\n",
       "    var renderer = new THREE.WebGLRenderer( { antialias: true, preserveDrawingBuffer: true } );\n",
       "    renderer.setPixelRatio( window.devicePixelRatio );\n",
       "    renderer.setSize( window.innerWidth, window.innerHeight );\n",
       "    renderer.setClearColor( options.theme === &#x27;dark&#x27; ? 0 : 0xffffff, 1 );\n",
       "    document.body.appendChild( renderer.domElement );\n",
       "\n",
       "    var b = [{&quot;x&quot;:0.0, &quot;y&quot;:0.0, &quot;z&quot;:0.0}, {&quot;x&quot;:3.0, &quot;y&quot;:3.0, &quot;z&quot;:2.0}]; // bounds\n",
       "\n",
       "    if ( b[0].x === b[1].x ) {\n",
       "        b[0].x -= 1;\n",
       "        b[1].x += 1;\n",
       "    }\n",
       "    if ( b[0].y === b[1].y ) {\n",
       "        b[0].y -= 1;\n",
       "        b[1].y += 1;\n",
       "    }\n",
       "    if ( b[0].z === b[1].z ) {\n",
       "        b[0].z -= 1;\n",
       "        b[1].z += 1;\n",
       "    }\n",
       "\n",
       "    var rxRange = Math.sqrt( Math.pow( b[1].z - b[0].z, 2 )\n",
       "                            + Math.pow( b[1].y - b[0].y, 2 ) );\n",
       "    var ryRange = Math.sqrt( Math.pow( b[1].x - b[0].x, 2 )\n",
       "                            + Math.pow( b[1].z - b[0].z, 2 ) );\n",
       "    var rzRange = Math.sqrt( Math.pow( b[1].x - b[0].x, 2 )\n",
       "                            + Math.pow( b[1].y - b[0].y, 2 ) );\n",
       "    var xRange = b[1].x - b[0].x;\n",
       "    var yRange = b[1].y - b[0].y;\n",
       "    var zRange = b[1].z - b[0].z;\n",
       "\n",
       "    var ar = options.aspectRatio;\n",
       "    var a = [ ar[0], ar[1], ar[2] ]; // aspect multipliers\n",
       "\n",
       "    var autoScaling = options.autoScaling;\n",
       "    var autoAspect = 2.5;\n",
       "    if ( xRange &gt; autoAspect * rxRange &amp;&amp; autoScaling[0] ) a[0] = autoAspect * rxRange / xRange;\n",
       "    if ( yRange &gt; autoAspect * ryRange &amp;&amp; autoScaling[1] ) a[1] = autoAspect * ryRange / yRange;\n",
       "    if ( zRange &gt; autoAspect * rzRange &amp;&amp; autoScaling[2] ) a[2] = autoAspect * rzRange / zRange;\n",
       "\n",
       "    // Distance from (xMid,yMid,zMid) to any corner of the bounding box, after applying aspectRatio\n",
       "    var midToCorner = Math.sqrt( a[0]*a[0]*xRange*xRange + a[1]*a[1]*yRange*yRange + a[2]*a[2]*zRange*zRange ) / 2;\n",
       "\n",
       "    var xMid = ( b[0].x + b[1].x ) / 2;\n",
       "    var yMid = ( b[0].y + b[1].y ) / 2;\n",
       "    var zMid = ( b[0].z + b[1].z ) / 2;\n",
       "\n",
       "    var box = new THREE.Geometry();\n",
       "    box.vertices.push( new THREE.Vector3( a[0]*b[0].x, a[1]*b[0].y, a[2]*b[0].z ) );\n",
       "    box.vertices.push( new THREE.Vector3( a[0]*b[1].x, a[1]*b[1].y, a[2]*b[1].z ) );\n",
       "    var boxMesh = new THREE.Line( box );\n",
       "    var boxColor = options.theme === &#x27;dark&#x27; ? &#x27;white&#x27; : &#x27;black&#x27;;\n",
       "    if ( options.frame ) scene.add( new THREE.BoxHelper( boxMesh, boxColor ) );\n",
       "\n",
       "    if ( options.axesLabels ) {\n",
       "\n",
       "        var d = options.decimals; // decimals\n",
       "        var offsetRatio = 0.1;\n",
       "        var al = options.axesLabels;\n",
       "        var als = options.axesLabelsStyle || [{}, {}, {}];\n",
       "\n",
       "        var offset = offsetRatio * a[1]*( b[1].y - b[0].y );\n",
       "        var xm = xMid.toFixed(d);\n",
       "        if ( /^-0.?0*$/.test(xm) ) xm = xm.substr(1);\n",
       "        addLabel( al[0] + &#x27;=&#x27; + xm, a[0]*xMid, a[1]*b[1].y+offset, a[2]*b[0].z, als[0] );\n",
       "        addLabel( ( b[0].x ).toFixed(d), a[0]*b[0].x, a[1]*b[1].y+offset, a[2]*b[0].z, als[0] );\n",
       "        addLabel( ( b[1].x ).toFixed(d), a[0]*b[1].x, a[1]*b[1].y+offset, a[2]*b[0].z, als[0] );\n",
       "\n",
       "        var offset = offsetRatio * a[0]*( b[1].x - b[0].x );\n",
       "        var ym = yMid.toFixed(d);\n",
       "        if ( /^-0.?0*$/.test(ym) ) ym = ym.substr(1);\n",
       "        addLabel( al[1] + &#x27;=&#x27; + ym, a[0]*b[1].x+offset, a[1]*yMid, a[2]*b[0].z, als[1] );\n",
       "        addLabel( ( b[0].y ).toFixed(d), a[0]*b[1].x+offset, a[1]*b[0].y, a[2]*b[0].z, als[1] );\n",
       "        addLabel( ( b[1].y ).toFixed(d), a[0]*b[1].x+offset, a[1]*b[1].y, a[2]*b[0].z, als[1] );\n",
       "\n",
       "        var offset = offsetRatio * a[1]*( b[1].y - b[0].y );\n",
       "        var zm = zMid.toFixed(d);\n",
       "        if ( /^-0.?0*$/.test(zm) ) zm = zm.substr(1);\n",
       "        addLabel( al[2] + &#x27;=&#x27; + zm, a[0]*b[1].x, a[1]*b[0].y-offset, a[2]*zMid, als[2] );\n",
       "        addLabel( ( b[0].z ).toFixed(d), a[0]*b[1].x, a[1]*b[0].y-offset, a[2]*b[0].z, als[2] );\n",
       "        addLabel( ( b[1].z ).toFixed(d), a[0]*b[1].x, a[1]*b[0].y-offset, a[2]*b[1].z, als[2] );\n",
       "\n",
       "    }\n",
       "\n",
       "    function addLabel( text, x, y, z, style ) {\n",
       "\n",
       "        var color = style.color || &#x27;black&#x27;;\n",
       "        var fontSize = style.fontSize || 14;\n",
       "        var fontFamily = style.fontFamily || &#x27;monospace&#x27;;\n",
       "        var fontStyle = style.fontStyle || &#x27;normal&#x27;;\n",
       "        var fontWeight = style.fontWeight || &#x27;normal&#x27;;\n",
       "        var opacity = style.opacity || 1;\n",
       "\n",
       "        if ( options.theme === &#x27;dark&#x27; )\n",
       "            if ( color === &#x27;black&#x27; || color === &#x27;#000000&#x27; )\n",
       "                color = &#x27;white&#x27;;\n",
       "\n",
       "        if ( Array.isArray( fontStyle ) ) {\n",
       "            fontFamily = fontFamily.map( function( f ) {\n",
       "                // Need to put quotes around fonts that have whitespace in their names.\n",
       "                return /\\s/.test( f ) ? &#x27;&quot;&#x27; + f + &#x27;&quot;&#x27; : f;\n",
       "            }).join(&#x27;, &#x27;);\n",
       "        }\n",
       "\n",
       "        var canvas = document.createElement( &#x27;canvas&#x27; );\n",
       "        var context = canvas.getContext( &#x27;2d&#x27; );\n",
       "        var pixelRatio = Math.round( window.devicePixelRatio );\n",
       "\n",
       "        // For example: italic bold 20px &quot;Times New Roman&quot;, Georgia, serif\n",
       "        var font = [fontStyle, fontWeight, fontSize + &#x27;px&#x27;, fontFamily].join(&#x27; &#x27;);\n",
       "\n",
       "        context.font = font;\n",
       "        var width = context.measureText( text ).width;\n",
       "        var height = fontSize;\n",
       "\n",
       "        // The dimensions of the canvas&#x27;s underlying image data need to be powers\n",
       "        // of two in order for the resulting texture to support mipmapping.\n",
       "        canvas.width = THREE.MathUtils.ceilPowerOfTwo( width * pixelRatio );\n",
       "        canvas.height = THREE.MathUtils.ceilPowerOfTwo( height * pixelRatio );\n",
       "\n",
       "        // Re-compute the unscaled dimensions after the power of two conversion.\n",
       "        width = canvas.width / pixelRatio;\n",
       "        height = canvas.height / pixelRatio;\n",
       "\n",
       "        canvas.style.width = width + &#x27;px&#x27;;\n",
       "        canvas.style.height = height + &#x27;px&#x27;;\n",
       "\n",
       "        context.scale( pixelRatio, pixelRatio );\n",
       "        context.fillStyle = color;\n",
       "        context.font = font; // Must be set again after measureText.\n",
       "        context.textAlign = &#x27;center&#x27;;\n",
       "        context.textBaseline = &#x27;middle&#x27;;\n",
       "        context.fillText( text, width/2, height/2 );\n",
       "\n",
       "        var texture = new THREE.Texture( canvas );\n",
       "        texture.needsUpdate = true;\n",
       "\n",
       "        var materialOptions = { map: texture, sizeAttenuation: false, depthWrite: false };\n",
       "        if ( opacity &lt; 1 ) {\n",
       "            // Setting opacity=1 would cause the texture&#x27;s alpha component to be\n",
       "            // discarded, giving the text a black background instead of the\n",
       "            // background being transparent.\n",
       "            materialOptions.opacity = opacity;\n",
       "        }\n",
       "        var sprite = new THREE.Sprite( new THREE.SpriteMaterial( materialOptions ) );\n",
       "        sprite.position.set( x, y, z );\n",
       "\n",
       "        // Scaling factor, chosen somewhat arbitrarily so that the size of the text\n",
       "        // is consistent with previously generated plots.\n",
       "        var scale = 1/625;\n",
       "        if ( options.projection === &#x27;orthographic&#x27; ) {\n",
       "            scale = midToCorner/256; // Needs to scale along with the plot itself.\n",
       "        }\n",
       "        sprite.scale.set( scale * width, scale * height, 1 );\n",
       "\n",
       "        scene.add( sprite );\n",
       "\n",
       "        return sprite;\n",
       "\n",
       "    }\n",
       "\n",
       "    if ( options.axes ) scene.add( new THREE.AxesHelper( Math.min( a[0]*b[1].x, a[1]*b[1].y, a[2]*b[1].z ) ) );\n",
       "\n",
       "    var camera = createCamera();\n",
       "    camera.up.set( 0, 0, 1 );\n",
       "    camera.position.set( a[0]*xMid, a[1]*yMid, a[2]*zMid );\n",
       "\n",
       "    // camera is positioned so that the line from the camera to the center\n",
       "    // of the bounding sphere of the objects makes an angle of 60 degrees with x-axis\n",
       "    // and an angle of 30 degrees with z-axis and the field of view of the camera looking\n",
       "    // at the center has an angle of 45 degrees.\n",
       "    const sin8 = Math.sin(Math.PI / 8);\n",
       "    const sin5 = Math.sin(Math.PI / 5);\n",
       "    const cos5 = Math.cos(Math.PI / 5);\n",
       "    const sin3 = Math.sin(Math.PI / 3);\n",
       "    const cos3 = Math.cos(Math.PI / 3);\n",
       "    var r = midToCorner / sin8;\n",
       "    var offset = new THREE.Vector3( r * sin3 * cos5, r * sin3 * sin5, r * cos3 );\n",
       "\n",
       "    if ( options.viewpoint ) {\n",
       "\n",
       "        var aa = options.viewpoint;\n",
       "        var axis = new THREE.Vector3( aa[0][0], aa[0][1], aa[0][2] ).normalize();\n",
       "        var angle = aa[1] * Math.PI / 180;\n",
       "        var q = new THREE.Quaternion().setFromAxisAngle( axis, angle ).inverse();\n",
       "\n",
       "        offset.set( 0, 0, offset.length() );\n",
       "        offset.applyQuaternion( q );\n",
       "\n",
       "    }\n",
       "\n",
       "    camera.position.add( offset );\n",
       "\n",
       "    function createCamera() {\n",
       "\n",
       "        var aspect = window.innerWidth / window.innerHeight;\n",
       "\n",
       "        // Scale the near and far clipping planes along with the overall plot size.\n",
       "        var nearClip = 0.01 * midToCorner;\n",
       "        var farClip = 100 * midToCorner;\n",
       "\n",
       "        if ( options.projection === &#x27;orthographic&#x27; ) {\n",
       "            var camera = new THREE.OrthographicCamera( -1, 1, 1, -1, -farClip, farClip );\n",
       "            updateCameraAspect( camera, aspect );\n",
       "            return camera;\n",
       "        }\n",
       "\n",
       "        return new THREE.PerspectiveCamera( 45, aspect, nearClip, farClip );\n",
       "\n",
       "    }\n",
       "\n",
       "    function updateCameraAspect( camera, aspect ) {\n",
       "\n",
       "        if ( camera.isPerspectiveCamera ) {\n",
       "            camera.aspect = aspect;\n",
       "        } else if ( camera.isOrthographicCamera ) {\n",
       "            // Fit the camera frustum to the bounding box&#x27;s diagonal so that the entire plot fits\n",
       "            // within at the default zoom level and camera position.\n",
       "            if ( aspect &gt; 1 ) { // Wide window\n",
       "                camera.top = midToCorner;\n",
       "                camera.right = midToCorner * aspect;\n",
       "            } else { // Tall or square window\n",
       "                camera.top = midToCorner / aspect;\n",
       "                camera.right = midToCorner;\n",
       "            }\n",
       "            camera.bottom = -camera.top;\n",
       "            camera.left = -camera.right;\n",
       "        }\n",
       "\n",
       "        camera.updateProjectionMatrix();\n",
       "\n",
       "    }\n",
       "\n",
       "    var lights = [{&quot;x&quot;:-5, &quot;y&quot;:3, &quot;z&quot;:0, &quot;color&quot;:&quot;#7f7f7f&quot;, &quot;parent&quot;:&quot;camera&quot;}];\n",
       "    for ( var i=0 ; i &lt; lights.length ; i++ ) {\n",
       "        var light = new THREE.DirectionalLight( lights[i].color, 1 );\n",
       "        light.position.set( a[0]*lights[i].x, a[1]*lights[i].y, a[2]*lights[i].z );\n",
       "        if ( lights[i].parent === &#x27;camera&#x27; ) {\n",
       "            light.target.position.set( a[0]*xMid, a[1]*yMid, a[2]*zMid );\n",
       "            scene.add( light.target );\n",
       "            camera.add( light );\n",
       "        } else scene.add( light );\n",
       "    }\n",
       "    scene.add( camera );\n",
       "\n",
       "    var ambient = {&quot;color&quot;:&quot;#7f7f7f&quot;};\n",
       "    scene.add( new THREE.AmbientLight( ambient.color, 1 ) );\n",
       "\n",
       "    var controls = new THREE.OrbitControls( camera, renderer.domElement );\n",
       "    controls.target.set( a[0]*xMid, a[1]*yMid, a[2]*zMid );\n",
       "    controls.addEventListener( &#x27;change&#x27;, function() { if ( !animate ) render(); } );\n",
       "\n",
       "    window.addEventListener( &#x27;resize&#x27;, function() {\n",
       "\n",
       "        renderer.setSize( window.innerWidth, window.innerHeight );\n",
       "        updateCameraAspect( camera, window.innerWidth / window.innerHeight );\n",
       "        if ( window.rescaleFatLines ) rescaleFatLines();\n",
       "        if ( !animate ) render();\n",
       "\n",
       "    } );\n",
       "\n",
       "    var texts = [];\n",
       "    for ( var i=0 ; i &lt; texts.length ; i++ ) addText( texts[i] );\n",
       "\n",
       "    function addText( json ) {\n",
       "        var sprite = addLabel( json.text, a[0]*json.x, a[1]*json.y, a[2]*json.z, json );\n",
       "        sprite.userData = json;\n",
       "    }\n",
       "\n",
       "    var points = [{&quot;point&quot;: [3.0, 0.0, 0.0], &quot;size&quot;: 10.0, &quot;color&quot;: &quot;#0000ff&quot;, &quot;opacity&quot;: 1.0}, {&quot;point&quot;: [3.0, 2.0, 0.0], &quot;size&quot;: 10.0, &quot;color&quot;: &quot;#0000ff&quot;, &quot;opacity&quot;: 1.0}, {&quot;point&quot;: [2.0, 2.0, 1.0], &quot;size&quot;: 10.0, &quot;color&quot;: &quot;#0000ff&quot;, &quot;opacity&quot;: 1.0}, {&quot;point&quot;: [1.0, 1.0, 2.0], &quot;size&quot;: 10.0, &quot;color&quot;: &quot;#0000ff&quot;, &quot;opacity&quot;: 1.0}, {&quot;point&quot;: [2.0, 3.0, 0.0], &quot;size&quot;: 10.0, &quot;color&quot;: &quot;#0000ff&quot;, &quot;opacity&quot;: 1.0}, {&quot;point&quot;: [1.0, 0.0, 2.0], &quot;size&quot;: 10.0, &quot;color&quot;: &quot;#0000ff&quot;, &quot;opacity&quot;: 1.0}, {&quot;point&quot;: [0.0, 0.0, 2.0], &quot;size&quot;: 10.0, &quot;color&quot;: &quot;#0000ff&quot;, &quot;opacity&quot;: 1.0}, {&quot;point&quot;: [0.0, 0.0, 0.0], &quot;size&quot;: 10.0, &quot;color&quot;: &quot;#0000ff&quot;, &quot;opacity&quot;: 1.0}, {&quot;point&quot;: [0.0, 1.0, 2.0], &quot;size&quot;: 10.0, &quot;color&quot;: &quot;#0000ff&quot;, &quot;opacity&quot;: 1.0}, {&quot;point&quot;: [0.0, 3.0, 0.0], &quot;size&quot;: 10.0, &quot;color&quot;: &quot;#0000ff&quot;, &quot;opacity&quot;: 1.0}];\n",
       "    for ( var i=0 ; i &lt; points.length ; i++ ) addPoint( points[i] );\n",
       "\n",
       "    function addPoint( json ) {\n",
       "\n",
       "        var geometry = new THREE.Geometry();\n",
       "        var v = json.point;\n",
       "        geometry.vertices.push( new THREE.Vector3( a[0]*v[0], a[1]*v[1], a[2]*v[2] ) );\n",
       "\n",
       "        var canvas = document.createElement( &#x27;canvas&#x27; );\n",
       "        canvas.width = 128;\n",
       "        canvas.height = 128;\n",
       "\n",
       "        var context = canvas.getContext( &#x27;2d&#x27; );\n",
       "        context.arc( 64, 64, 64, 0, 2 * Math.PI );\n",
       "        context.fillStyle = json.color;\n",
       "        context.fill();\n",
       "\n",
       "        var texture = new THREE.Texture( canvas );\n",
       "        texture.needsUpdate = true;\n",
       "\n",
       "        var transparent = json.opacity &lt; 1 ? true : false;\n",
       "        var size = camera.isOrthographicCamera ? json.size : json.size/100;\n",
       "        var material = new THREE.PointsMaterial( { size: size, map: texture,\n",
       "                                                   transparent: transparent, opacity: json.opacity,\n",
       "                                                   alphaTest: .1 } );\n",
       "\n",
       "        var c = new THREE.Vector3();\n",
       "        geometry.computeBoundingBox();\n",
       "        geometry.boundingBox.getCenter( c );\n",
       "        geometry.translate( -c.x, -c.y, -c.z );\n",
       "\n",
       "        var mesh = new THREE.Points( geometry, material );\n",
       "        mesh.position.set( c.x, c.y, c.z );\n",
       "        mesh.userData = json;\n",
       "        scene.add( mesh );\n",
       "\n",
       "    }\n",
       "\n",
       "    var lines = [{&quot;points&quot;: [[3.0, 0.0, 0.0], [3.0, 2.0, 0.0]], &quot;color&quot;: &quot;#0000ff&quot;, &quot;opacity&quot;: 1.0, &quot;linewidth&quot;: 1.0}, {&quot;points&quot;: [[3.0, 0.0, 0.0], [1.0, 0.0, 2.0]], &quot;color&quot;: &quot;#0000ff&quot;, &quot;opacity&quot;: 1.0, &quot;linewidth&quot;: 1.0}, {&quot;points&quot;: [[3.0, 0.0, 0.0], [0.0, 0.0, 0.0]], &quot;color&quot;: &quot;#0000ff&quot;, &quot;opacity&quot;: 1.0, &quot;linewidth&quot;: 1.0}, {&quot;points&quot;: [[3.0, 2.0, 0.0], [2.0, 2.0, 1.0]], &quot;color&quot;: &quot;#0000ff&quot;, &quot;opacity&quot;: 1.0, &quot;linewidth&quot;: 1.0}, {&quot;points&quot;: [[3.0, 2.0, 0.0], [2.0, 3.0, 0.0]], &quot;color&quot;: &quot;#0000ff&quot;, &quot;opacity&quot;: 1.0, &quot;linewidth&quot;: 1.0}, {&quot;points&quot;: [[2.0, 2.0, 1.0], [1.0, 1.0, 2.0]], &quot;color&quot;: &quot;#0000ff&quot;, &quot;opacity&quot;: 1.0, &quot;linewidth&quot;: 1.0}, {&quot;points&quot;: [[2.0, 2.0, 1.0], [2.0, 3.0, 0.0]], &quot;color&quot;: &quot;#0000ff&quot;, &quot;opacity&quot;: 1.0, &quot;linewidth&quot;: 1.0}, {&quot;points&quot;: [[1.0, 1.0, 2.0], [1.0, 0.0, 2.0]], &quot;color&quot;: &quot;#0000ff&quot;, &quot;opacity&quot;: 1.0, &quot;linewidth&quot;: 1.0}, {&quot;points&quot;: [[1.0, 1.0, 2.0], [0.0, 1.0, 2.0]], &quot;color&quot;: &quot;#0000ff&quot;, &quot;opacity&quot;: 1.0, &quot;linewidth&quot;: 1.0}, {&quot;points&quot;: [[2.0, 3.0, 0.0], [0.0, 3.0, 0.0]], &quot;color&quot;: &quot;#0000ff&quot;, &quot;opacity&quot;: 1.0, &quot;linewidth&quot;: 1.0}, {&quot;points&quot;: [[1.0, 0.0, 2.0], [0.0, 0.0, 2.0]], &quot;color&quot;: &quot;#0000ff&quot;, &quot;opacity&quot;: 1.0, &quot;linewidth&quot;: 1.0}, {&quot;points&quot;: [[0.0, 0.0, 2.0], [0.0, 0.0, 0.0]], &quot;color&quot;: &quot;#0000ff&quot;, &quot;opacity&quot;: 1.0, &quot;linewidth&quot;: 1.0}, {&quot;points&quot;: [[0.0, 0.0, 2.0], [0.0, 1.0, 2.0]], &quot;color&quot;: &quot;#0000ff&quot;, &quot;opacity&quot;: 1.0, &quot;linewidth&quot;: 1.0}, {&quot;points&quot;: [[0.0, 0.0, 0.0], [0.0, 3.0, 0.0]], &quot;color&quot;: &quot;#0000ff&quot;, &quot;opacity&quot;: 1.0, &quot;linewidth&quot;: 1.0}, {&quot;points&quot;: [[0.0, 1.0, 2.0], [0.0, 3.0, 0.0]], &quot;color&quot;: &quot;#0000ff&quot;, &quot;opacity&quot;: 1.0, &quot;linewidth&quot;: 1.0}];\n",
       "    for ( var i=0 ; i &lt; lines.length ; i++ ) addLine( lines[i] );\n",
       "\n",
       "    function addLine( json ) {\n",
       "\n",
       "        var geometry = new THREE.Geometry();\n",
       "        for ( var i=0 ; i &lt; json.points.length ; i++ ) {\n",
       "            var v = json.points[i];\n",
       "            geometry.vertices.push( new THREE.Vector3( a[0]*v[0], a[1]*v[1], a[2]*v[2] ) );\n",
       "        }\n",
       "\n",
       "        var c = new THREE.Vector3();\n",
       "        geometry.computeBoundingBox();\n",
       "        geometry.boundingBox.getCenter( c );\n",
       "        geometry.translate( -c.x, -c.y, -c.z );\n",
       "\n",
       "        var transparent = json.opacity &lt; 1 ? true : false;\n",
       "        var materialOptions = { color: json.color, linewidth: json.linewidth,\n",
       "                                transparent: transparent, opacity: json.opacity };\n",
       "\n",
       "        var mesh;\n",
       "        if ( json.linewidth &gt; 1 &amp;&amp; window.createFatLineStrip ) {\n",
       "            mesh = createFatLineStrip( geometry, materialOptions );\n",
       "        } else {\n",
       "            var material = new THREE.LineBasicMaterial( materialOptions );\n",
       "            mesh = new THREE.Line( geometry, material );\n",
       "        }\n",
       "\n",
       "        mesh.position.set( c.x, c.y, c.z );\n",
       "        mesh.userData = json;\n",
       "        scene.add( mesh );\n",
       "\n",
       "    }\n",
       "\n",
       "    var surfaces = [{&quot;vertices&quot;: [{&quot;x&quot;: 3.0, &quot;y&quot;: 0.0, &quot;z&quot;: 0.0}, {&quot;x&quot;: 3.0, &quot;y&quot;: 2.0, &quot;z&quot;: 0.0}, {&quot;x&quot;: 2.0, &quot;y&quot;: 2.0, &quot;z&quot;: 1.0}, {&quot;x&quot;: 1.0, &quot;y&quot;: 1.0, &quot;z&quot;: 2.0}, {&quot;x&quot;: 2.0, &quot;y&quot;: 3.0, &quot;z&quot;: 0.0}, {&quot;x&quot;: 1.0, &quot;y&quot;: 0.0, &quot;z&quot;: 2.0}, {&quot;x&quot;: 0.0, &quot;y&quot;: 0.0, &quot;z&quot;: 2.0}, {&quot;x&quot;: 0.0, &quot;y&quot;: 0.0, &quot;z&quot;: 0.0}, {&quot;x&quot;: 0.0, &quot;y&quot;: 1.0, &quot;z&quot;: 2.0}, {&quot;x&quot;: 0.0, &quot;y&quot;: 3.0, &quot;z&quot;: 0.0}], &quot;faces&quot;: [[2, 1, 4], [5, 0, 1, 2, 3], [8, 3, 2, 4, 9], [6, 5, 3, 8], [9, 7, 6, 8], [9, 4, 1, 0, 7], [7, 0, 5, 6]], &quot;color&quot;: &quot;#008000&quot;, &quot;opacity&quot;: 1.0, &quot;useFlatShading&quot;: true}];\n",
       "    for ( var i=0 ; i &lt; surfaces.length ; i++ ) addSurface( surfaces[i] );\n",
       "\n",
       "    function addSurface( json ) {\n",
       "\n",
       "        var useFaceColors = &#x27;faceColors&#x27; in json ? true : false;\n",
       "\n",
       "        var geometry = new THREE.Geometry();\n",
       "        for ( var i=0 ; i &lt; json.vertices.length ; i++ ) {\n",
       "            var v = json.vertices[i];\n",
       "            geometry.vertices.push( new THREE.Vector3( a[0]*v.x, a[1]*v.y, a[2]*v.z ) );\n",
       "        }\n",
       "        for ( var i=0 ; i &lt; json.faces.length ; i++ ) {\n",
       "            var f = json.faces[i];\n",
       "            for ( var j=0 ; j &lt; f.length - 2 ; j++ ) {\n",
       "                var face = new THREE.Face3( f[0], f[j+1], f[j+2] );\n",
       "                if ( useFaceColors ) face.color.set( json.faceColors[i] );\n",
       "                geometry.faces.push( face );\n",
       "            }\n",
       "        }\n",
       "        geometry.computeVertexNormals();\n",
       "\n",
       "        var side = json.singleSide ? THREE.FrontSide : THREE.DoubleSide;\n",
       "        var transparent = json.opacity &lt; 1 ? true : false;\n",
       "        var depthWrite = &#x27;depthWrite&#x27; in json ? json.depthWrite : !transparent;\n",
       "        var flatShading = json.useFlatShading ? json.useFlatShading : false;\n",
       "\n",
       "        var material = new THREE.MeshPhongMaterial( { side: side,\n",
       "                                     color: useFaceColors ? &#x27;white&#x27; : json.color,\n",
       "                                     vertexColors: useFaceColors ? THREE.FaceColors : THREE.NoColors,\n",
       "                                     transparent: transparent, opacity: json.opacity,\n",
       "                                     shininess: 20, flatShading: flatShading,\n",
       "                                     depthWrite: depthWrite } );\n",
       "\n",
       "        var c = new THREE.Vector3();\n",
       "        geometry.computeBoundingBox();\n",
       "        geometry.boundingBox.getCenter( c );\n",
       "        geometry.translate( -c.x, -c.y, -c.z );\n",
       "\n",
       "        var mesh = new THREE.Mesh( geometry, material );\n",
       "        mesh.position.set( c.x, c.y, c.z );\n",
       "        if ( transparent &amp;&amp; json.renderOrder ) mesh.renderOrder = json.renderOrder;\n",
       "        mesh.userData = json;\n",
       "        scene.add( mesh );\n",
       "\n",
       "        if ( json.showMeshGrid ) addSurfaceMeshGrid( json );\n",
       "\n",
       "    }\n",
       "\n",
       "    function addSurfaceMeshGrid( json ) {\n",
       "\n",
       "        var geometry = new THREE.Geometry();\n",
       "\n",
       "        for ( var i=0 ; i &lt; json.faces.length ; i++ ) {\n",
       "            var f = json.faces[i];\n",
       "            for ( var j=0 ; j &lt; f.length ; j++ ) {\n",
       "                var k = j === f.length-1 ? 0 : j+1;\n",
       "                var v1 = json.vertices[f[j]];\n",
       "                var v2 = json.vertices[f[k]];\n",
       "                // vertices in opposite directions on neighboring faces\n",
       "                var nudge = f[j] &lt; f[k] ? .0005*zRange : -.0005*zRange;\n",
       "                geometry.vertices.push( new THREE.Vector3( a[0]*v1.x, a[1]*v1.y, a[2]*(v1.z+nudge) ) );\n",
       "                geometry.vertices.push( new THREE.Vector3( a[0]*v2.x, a[1]*v2.y, a[2]*(v2.z+nudge) ) );\n",
       "            }\n",
       "        }\n",
       "\n",
       "        var c = new THREE.Vector3();\n",
       "        geometry.computeBoundingBox();\n",
       "        geometry.boundingBox.getCenter( c );\n",
       "        geometry.translate( -c.x, -c.y, -c.z );\n",
       "\n",
       "        var gridColor = options.theme === &#x27;dark&#x27; ? &#x27;white&#x27; : &#x27;black&#x27;;\n",
       "        var linewidth = json.linewidth || 1;\n",
       "        var materialOptions = { color: gridColor, linewidth: linewidth };\n",
       "\n",
       "        var mesh;\n",
       "        if ( linewidth &gt; 1 &amp;&amp; window.createFatLineSegments ) {\n",
       "            mesh = createFatLineSegments( geometry, materialOptions );\n",
       "        } else {\n",
       "            var material = new THREE.LineBasicMaterial( materialOptions );\n",
       "            mesh = new THREE.LineSegments( geometry, material );\n",
       "        }\n",
       "\n",
       "        mesh.position.set( c.x, c.y, c.z );\n",
       "        mesh.userData = json;\n",
       "        scene.add( mesh );\n",
       "\n",
       "    }\n",
       "\n",
       "    function render() {\n",
       "\n",
       "        if ( window.updateAnimation ) animate = updateAnimation();\n",
       "        if ( animate ) requestAnimationFrame( render );\n",
       "\n",
       "        renderer.render( scene, camera );\n",
       "\n",
       "    }\n",
       "\n",
       "    render();\n",
       "    controls.update();\n",
       "    if ( !animate ) render();\n",
       "\n",
       "\n",
       "    // menu functions\n",
       "\n",
       "    function toggleMenu() {\n",
       "\n",
       "        var m = document.getElementById( &#x27;menu-content&#x27; );\n",
       "        if ( m.style.display === &#x27;block&#x27; ) m.style.display = &#x27;none&#x27;\n",
       "        else m.style.display = &#x27;block&#x27;;\n",
       "\n",
       "    }\n",
       "\n",
       "\n",
       "    function saveAsPNG() {\n",
       "\n",
       "        var a = document.body.appendChild( document.createElement( &#x27;a&#x27; ) );\n",
       "        a.href = renderer.domElement.toDataURL( &#x27;image/png&#x27; );\n",
       "        a.download = &#x27;screenshot&#x27;;\n",
       "        a.click();\n",
       "\n",
       "    }\n",
       "\n",
       "    function saveAsHTML() {\n",
       "\n",
       "        toggleMenu(); // otherwise visible in output\n",
       "        event.stopPropagation();\n",
       "\n",
       "        var blob = new Blob( [ &#x27;&lt;!DOCTYPE html&gt;\\n&#x27; + document.documentElement.outerHTML ] );\n",
       "        var a = document.body.appendChild( document.createElement( &#x27;a&#x27; ) );\n",
       "        a.href = window.URL.createObjectURL( blob );\n",
       "        a.download = suggestFilename();\n",
       "        a.click();\n",
       "\n",
       "        function suggestFilename() {\n",
       "            if ( !document.title ) {\n",
       "                return &#x27;graphic.html&#x27;;\n",
       "            } else if ( /\\.html?$/i.test( document.title ) ) {\n",
       "                return document.title; // already ends in .htm or .html\n",
       "            } else {\n",
       "                return document.title + &#x27;.html&#x27;;\n",
       "            }\n",
       "        }\n",
       "\n",
       "    }\n",
       "\n",
       "    function getViewpoint() {\n",
       "\n",
       "        function roundTo( x, n ) { return +x.toFixed(n); }\n",
       "\n",
       "        var v = camera.quaternion.inverse();\n",
       "        var r = Math.sqrt( v.x*v.x + v.y*v.y + v.z*v.z );\n",
       "        var axis = [ roundTo( v.x / r, 4 ), roundTo( v.y / r, 4 ), roundTo( v.z / r, 4 ) ];\n",
       "        var angle = roundTo( 2 * Math.atan2( r, v.w ) * 180 / Math.PI, 2 );\n",
       "\n",
       "        var textArea = document.createElement( &#x27;textarea&#x27; );\n",
       "        textArea.textContent = JSON.stringify( axis ) + &#x27;,&#x27; + angle;\n",
       "        textArea.style.csstext = &#x27;position: absolute; top: -100%&#x27;;\n",
       "        document.body.append( textArea );\n",
       "        textArea.select();\n",
       "        document.execCommand( &#x27;copy&#x27; );\n",
       "\n",
       "        var m = document.getElementById( &#x27;menu-message&#x27; );\n",
       "        m.innerHTML = &#x27;Viewpoint copied to clipboard&#x27;;\n",
       "        m.style.display = &#x27;block&#x27;;\n",
       "        setTimeout( function() { m.style.display = &#x27;none&#x27;; }, 2000 );\n",
       "\n",
       "    }\n",
       "\n",
       "    function getCamera() {\n",
       "\n",
       "        function roundTo( x, n ) { return +x.toFixed(n); }\n",
       "\n",
       "        var pos = camera.position;\n",
       "        var pos_r = [ roundTo( pos.x, 4 ), roundTo( pos.y, 4 ), roundTo( pos.z, 4 ) ];\n",
       "   //     var up = camera.up; // up is always (0,0,1)\n",
       "        var textArea = document.createElement(&#x27;textarea&#x27;);\n",
       "        var cam_position = JSON.stringify(pos_r);\n",
       "        textArea.textContent = &#x27;,camera_position=&#x27; + cam_position;\n",
       "        textArea.style.csstext = &#x27;position: absolute; top: -100%&#x27;;\n",
       "        document.body.append( textArea );\n",
       "        textArea.select();\n",
       "        document.execCommand( &#x27;copy&#x27; );\n",
       "\n",
       "        var m = document.getElementById( &#x27;menu-message&#x27; );\n",
       "        m.innerHTML = &#x27;Camera position &#x27;+ cam_position+&#x27; copied to clipboard&#x27;;\n",
       "        m.style.display = &#x27;block&#x27;;\n",
       "        setTimeout( function() { m.style.display = &#x27;none&#x27;; }, 2000 );\n",
       "\n",
       "    }\n",
       "\n",
       "&lt;/script&gt;\n",
       "\n",
       "&lt;div id=&quot;menu-container&quot; onclick=&quot;toggleMenu()&quot;&gt;&amp;#x24d8;\n",
       "&lt;div id=&quot;menu-message&quot;&gt;&lt;/div&gt;\n",
       "&lt;div id=&quot;menu-content&quot;&gt;\n",
       "&lt;div onclick=&quot;saveAsPNG()&quot;&gt;Save as PNG&lt;/div&gt;\n",
       "&lt;div onclick=&quot;saveAsHTML()&quot;&gt;Save as HTML&lt;/div&gt;\n",
       "&lt;div onclick=&quot;getCamera()&quot;&gt;Get camera&lt;/div&gt;\n",
       "&lt;div onclick=&quot;getViewpoint()&quot;&gt;Get viewpoint&lt;/div&gt;\n",
       "&lt;div&gt;Close Menu&lt;/div&gt;\n",
       "&lt;/div&gt;&lt;/div&gt;\n",
       "\n",
       "\n",
       "&lt;/body&gt;\n",
       "&lt;/html&gt;\n",
       "\"\n",
       "        width=\"100%\"\n",
       "        height=\"400\"\n",
       "        style=\"border: 0;\">\n",
       "</iframe>\n"
      ],
      "text/plain": [
       "Graphics3d Object"
      ]
     },
     "execution_count": 8,
     "metadata": {},
     "output_type": "execute_result"
    }
   ],
   "source": [
    "D = [3,0,3,5,0,2,0]\n",
    "\n",
    "ieq=(matrix(D).transpose()).augment(matrix(Xe.fan().rays())).rows()\n",
    "\n",
    "AmplePolytope = Polyhedron(ieqs=ieq)\n",
    "AmplePolytope.plot()"
   ]
  },
  {
   "cell_type": "markdown",
   "id": "af792249-e7b3-44ea-aa6b-6f528eeccc6b",
   "metadata": {
    "jp-MarkdownHeadingCollapsed": true
   },
   "source": [
    "# Section 5. The tile group"
   ]
  },
  {
   "cell_type": "markdown",
   "id": "9bc0580c-1c38-4109-b0aa-d4bfa38854ff",
   "metadata": {
    "jp-MarkdownHeadingCollapsed": true
   },
   "source": [
    "## Section 5.2. Generators of the tile group"
   ]
  },
  {
   "cell_type": "markdown",
   "id": "b0998a3c-9ca0-4303-864f-60a9563b2a4a",
   "metadata": {},
   "source": [
    "### Construction 2"
   ]
  },
  {
   "cell_type": "markdown",
   "id": "bb0e9278-2154-47b4-a8e9-5b37fe4e2c8f",
   "metadata": {},
   "source": [
    "---\n",
    "We introduce some background functions for Construction $2$, which will be described by the function **birational(perm)** below.\n",
    "\n",
    "---"
   ]
  },
  {
   "cell_type": "code",
   "execution_count": 9,
   "id": "b3248955-aaee-4b75-9ba1-3d8712cd64d2",
   "metadata": {},
   "outputs": [],
   "source": [
    "######################################################\n",
    "### Normalize a list of polynomials up to a scalar ###\n",
    "######################################################\n",
    "\n",
    "def clear_denominators(poly_list):\n",
    "    from sage.arith.all import lcm\n",
    "    denoms = [c.denominator() for f in poly_list for c in f.coefficients()]\n",
    "    L = lcm(denoms)\n",
    "    return [L*f for f in poly_list]\n",
    "\n",
    "##################################################\n",
    "#####    Normalize a matrix up to a scalar   #####\n",
    "##################################################\n",
    "\n",
    "def norm(M):\n",
    "    entries = [a for a in M.list() if a != 0]\n",
    "    if not entries:\n",
    "        return M\n",
    "    lcm_val = lcm([a.denominator() for a in entries])\n",
    "    M = M * lcm_val\n",
    "    gcd_val = gcd([a for a in M.list() if a != 0])\n",
    "    M = M.apply_map(lambda x: x / gcd_val)\n",
    "    first_nonzero = next((a for a in M.list() if a != 0), None)\n",
    "    if first_nonzero and first_nonzero < 0:\n",
    "        M = -M\n",
    "    return M\n",
    "\n",
    "##################################\n",
    "#### Matrix of a linear map   ####\n",
    "##################################\n",
    "\n",
    "def matrix_linearmap(exprs, vars):\n",
    "    exprs_sym = [SR(e) for e in exprs]  # ensure symbolic form\n",
    "    rows = []\n",
    "    for e in exprs_sym:\n",
    "        coeffs = [e.coefficient(v) for v in vars]\n",
    "        rows.append(coeffs)\n",
    "    return Matrix(SR, rows)\n",
    "\n",
    "##############################################\n",
    "#####   Simplifies entries of a matrix   #####\n",
    "##############################################\n",
    "\n",
    "def simp(M):\n",
    "    return M.apply_map(lambda x: x.full_simplify())"
   ]
  },
  {
   "cell_type": "markdown",
   "id": "0ac05390-ccde-41bf-802d-833c15e826e9",
   "metadata": {},
   "source": [
    "---\n",
    "We introduce the symmetric group $S_4$, and a general element in $\\mathfrak{n}$ represented by the class of the matrix\n",
    "\n",
    "$$\n",
    "Y=\\begin{pmatrix}\n",
    "\t0 & 0 & 0 & 0 \\\\\n",
    "\t1 & 0 & 0 & 0 \\\\\n",
    "\ty_{1} & 1 & 0 & 0 \\\\\n",
    "\ty_{3} & y_{2} & 1 & 0 \\\\\n",
    "\\end{pmatrix}\n",
    "$$\n",
    "corresponding to the point $[1:y_1:y_2:y_3]\\in\\mathbb{P}^3$.\n",
    "\n",
    "---"
   ]
  },
  {
   "cell_type": "code",
   "execution_count": 10,
   "id": "4722fd96-3b1c-44db-ab9b-c4560b4ab6b4",
   "metadata": {},
   "outputs": [],
   "source": [
    "##########################\n",
    "### Symmetric group S4 ###\n",
    "##########################\n",
    "\n",
    "S=SymmetricGroup(list(range(4)))\n",
    "\n",
    "#####################################\n",
    "### Polynomial ring in 4 variable ###\n",
    "#####################################\n",
    "\n",
    "R.<y0,y1,y2,y3> = PolynomialRing(QQ)\n",
    "vars=[y0,y1,y2,y3]\n",
    "\n",
    "#################################\n",
    "### Lower triangular matrix Y ###\n",
    "#################################\n",
    "\n",
    "Y= Matrix(R,[[0,0,0,0],[1,0,0,0],[y1,1,0,0],[y3,y2,1,0]])"
   ]
  },
  {
   "cell_type": "markdown",
   "id": "5a30cfd6-ff2a-4814-957f-c80fbd6763e3",
   "metadata": {},
   "source": [
    "---\n",
    "The function **birational(perm)** mimics Construction $2$. Namely, given a permutation **perm** of $S_4$ it computes the rational map $\\mathbb{P}^3\\dashrightarrow \\mathbb{P}^3$ defined by the homogeneous polynomials $[1:f_1:f_2:f_3]$ in the variables $y_0,y_1,y_2,y_3$. \n",
    "\n",
    "---"
   ]
  },
  {
   "cell_type": "code",
   "execution_count": 11,
   "id": "21a5aadb-d95c-48b6-a14d-db683c26fb16",
   "metadata": {},
   "outputs": [],
   "source": [
    "def birational(perm):\n",
    "    E = sum(1/factorial(k)*Y^k for k in range(4))\n",
    "    C = (S(perm).matrix().transpose())*E\n",
    "    P,L,U = C.LU()\n",
    "    M = sum((-1)^(k+1)/k*(L-1)^k for k in range(1,4))\n",
    "    MH = [M[1,0]*M[2,1]*M[3,2], M[3,2]*M[2,0], M[1,0]*M[3,1], M[3,0]] \n",
    "    return [R(f).homogenize(y0) for f in MH]"
   ]
  },
  {
   "cell_type": "code",
   "execution_count": 12,
   "id": "6f851ebd-db4b-450c-95c3-5629ac8d4f7b",
   "metadata": {},
   "outputs": [],
   "source": [
    "#############################\n",
    "### Change of coordinates ###\n",
    "#############################\n",
    "\n",
    "Frac = R.fraction_field()\n",
    "CC = Matrix(Frac,[(6, 0, 0, 0),(3, -6, 0, 0), (3, 0, 6, 0), (2, -3, 3, -6)]) "
   ]
  },
  {
   "cell_type": "markdown",
   "id": "af4a64c1-d7b1-4f42-bdc5-10af6a777b38",
   "metadata": {},
   "source": [
    "### Proposition 5.3"
   ]
  },
  {
   "cell_type": "markdown",
   "id": "6758c15f-b994-4c8e-ab19-0a57de17247a",
   "metadata": {},
   "source": [
    "---\n",
    "\n",
    "We compute the matrix associated to the rational maps defined by the reflections $r_1,r_2,r_3$ and the anti-transposition $\\tau$.\n",
    "\n",
    "Reflection $r_1$.\n",
    "\n",
    "---"
   ]
  },
  {
   "cell_type": "code",
   "execution_count": 13,
   "id": "5874c284-1812-42c1-8f74-595f7a8e967c",
   "metadata": {},
   "outputs": [
    {
     "data": {
      "text/plain": [
       "[0 1 0 0]\n",
       "[1 0 0 0]\n",
       "[0 0 0 1]\n",
       "[0 0 1 0]"
      ]
     },
     "execution_count": 13,
     "metadata": {},
     "output_type": "execute_result"
    }
   ],
   "source": [
    "#####################\n",
    "### Reflection R1 ###\n",
    "#####################\n",
    "\n",
    "r1=matrix_linearmap(clear_denominators(birational([1,0,2,3])),vars)\n",
    "R1=norm(CC*r1*CC.inverse()); R1"
   ]
  },
  {
   "cell_type": "markdown",
   "id": "7d27bf86-1641-475a-9532-ad963de55215",
   "metadata": {},
   "source": [
    "---\n",
    "\n",
    "Reflection $r_2$.\n",
    "\n",
    "---"
   ]
  },
  {
   "cell_type": "code",
   "execution_count": 14,
   "id": "1ecbad45-2b1f-4cdc-a052-dcbf1f70677b",
   "metadata": {},
   "outputs": [
    {
     "data": {
      "text/plain": [
       "[z0^2 - z0*z1 - (z0 - z1)*z2, -z0*z1 + z1*z2, -(z0 - z1)*z2, z1*z2 - z0*z3]"
      ]
     },
     "execution_count": 14,
     "metadata": {},
     "output_type": "execute_result"
    }
   ],
   "source": [
    "r2=birational([0,2,1,3])\n",
    "\n",
    "#############################\n",
    "### Change of coordinates ###\n",
    "#############################\n",
    "\n",
    "var('z0 z1 z2 z3')\n",
    "z = vector(SR, [z0,z1,z2,z3])\n",
    "y = CC.inverse() * z\n",
    "\n",
    "subs_map = {R.gens()[i]: y[i] for i in range(4)}\n",
    "evaluated = [f.subs(subs_map).simplify_full() for f in r2]\n",
    "\n",
    "F = CC * vector(evaluated)\n",
    "[-6*poly.simplify_full() for poly in F]"
   ]
  },
  {
   "cell_type": "code",
   "execution_count": 15,
   "id": "47c80c09-5fe1-4831-98cf-04a54a92d960",
   "metadata": {},
   "outputs": [],
   "source": [
    "####################################\n",
    "### Cremona map associated to R2 ###\n",
    "####################################\n",
    "\n",
    "def cremona(A):\n",
    "    M=Matrix([z0,0,0,0]).transpose()\n",
    "    M[0,0]=  (A[0,0] - A[1,0]) * (A[0,0] - A[2,0])\n",
    "    M[1,0]= A[1,0] * (A[2,0] - A[0,0])\n",
    "    M[2,0]= A[2,0] * (A[1,0] - A[0,0])\n",
    "    M[3,0]= A[1,0] * A[2,0] - A[0,0] * A[3,0]\n",
    "    return norm(M)"
   ]
  },
  {
   "cell_type": "markdown",
   "id": "e5b63ed7-ae48-4d0c-b406-fff761fe3660",
   "metadata": {},
   "source": [
    "---\n",
    "\n",
    "Reflection $r_3$.\n",
    "\n",
    "---"
   ]
  },
  {
   "cell_type": "code",
   "execution_count": 16,
   "id": "57c8e4bd-3f77-4dad-97c6-04817cccef35",
   "metadata": {},
   "outputs": [
    {
     "data": {
      "text/plain": [
       "[0 0 1 0]\n",
       "[0 0 0 1]\n",
       "[1 0 0 0]\n",
       "[0 1 0 0]"
      ]
     },
     "execution_count": 16,
     "metadata": {},
     "output_type": "execute_result"
    }
   ],
   "source": [
    "r3=matrix_linearmap(clear_denominators(birational([0,1,3,2])),vars)\n",
    "R3=norm(CC*r3*CC.inverse()); R3"
   ]
  },
  {
   "cell_type": "markdown",
   "id": "942ba16a-070b-447e-8f0a-a1aa1dc4eae3",
   "metadata": {},
   "source": [
    "---\n",
    "\n",
    "Reflection $\\tau$. We adapt Construction $2$ to this specific case.\n",
    "\n",
    "---"
   ]
  },
  {
   "cell_type": "code",
   "execution_count": 17,
   "id": "b806790c-7b6c-495a-8d42-1704cb13c825",
   "metadata": {},
   "outputs": [
    {
     "data": {
      "text/plain": [
       "[1 0 0 0]\n",
       "[0 0 1 0]\n",
       "[0 1 0 0]\n",
       "[0 0 0 1]"
      ]
     },
     "execution_count": 17,
     "metadata": {},
     "output_type": "execute_result"
    }
   ],
   "source": [
    "#############################################\n",
    "### Construction 2 for anti-transposition ###\n",
    "#############################################\n",
    "\n",
    "perm=([3,2,1,0])\n",
    "E = sum(1/factorial(k)*Y^k for k in range(4))                           \n",
    "C = S([3,2,1,0]).matrix()*(E.transpose().inverse())*S([3,2,1,0]).matrix()                                   \n",
    "P,L,U = C.LU()                                                              \n",
    "M = sum((-1)^(k+1)/k*(L-1)^k for k in range(1,4))       \n",
    "MH = [M[1,0]*M[2,1]*M[3,2], M[3,2]*M[2,0], M[1,0]*M[3,1], M[3,0]]\n",
    "\n",
    "########################################\n",
    "### Matrix of the anti-transposition ###\n",
    "########################################\n",
    "\n",
    "tau=matrix_linearmap([-y0, y2, y1, -y3],vars)\n",
    "T=norm(CC*tau*CC.inverse()); T"
   ]
  },
  {
   "cell_type": "markdown",
   "id": "a11f9da0-6c14-4638-98b5-6f9fe6b6e686",
   "metadata": {},
   "source": [
    "### Relations among $r_1,r_2,r_3$ and $\\tau$."
   ]
  },
  {
   "cell_type": "markdown",
   "id": "253d9213-8a6c-4446-bd42-b46ca23786b2",
   "metadata": {},
   "source": [
    "---\n",
    "\n",
    "We check all generators are involutions.\n",
    "\n",
    "---"
   ]
  },
  {
   "cell_type": "code",
   "execution_count": 18,
   "id": "496ad774-77c7-4198-a241-b2843224d24d",
   "metadata": {},
   "outputs": [
    {
     "data": {
      "text/plain": [
       "(\n",
       "[1 0 0 0]  [z0]  [1 0 0 0]  [1 0 0 0]\n",
       "[0 1 0 0]  [z1]  [0 1 0 0]  [0 1 0 0]\n",
       "[0 0 1 0]  [z2]  [0 0 1 0]  [0 0 1 0]\n",
       "[0 0 0 1], [z3], [0 0 0 1], [0 0 0 1]\n",
       ")"
      ]
     },
     "execution_count": 18,
     "metadata": {},
     "output_type": "execute_result"
    }
   ],
   "source": [
    "#########################\n",
    "### Check involutions ###\n",
    "#########################\n",
    "\n",
    "ZZ=Matrix([z0,z1,z2,z3]).transpose()\n",
    "\n",
    "norm(R1*R1), simp(cremona(cremona(ZZ))), norm(R3*R3), norm(T*T)"
   ]
  },
  {
   "cell_type": "markdown",
   "id": "63bf9c3e-0e62-4b57-90ee-d4360ae17a18",
   "metadata": {},
   "source": [
    "---\n",
    "We check that the relations among the generators are exactly those of the octahedral group.\n",
    "\n",
    "---"
   ]
  },
  {
   "cell_type": "code",
   "execution_count": 19,
   "id": "c3c9d8e4-4965-4523-ab9b-161d5a80b7da",
   "metadata": {},
   "outputs": [
    {
     "data": {
      "text/plain": [
       "(\n",
       "[              -z0*z1 + z0*z3]  [              -z0*z1 + z0*z3]\n",
       "[-z0*z1 + z1^2 + (z0 - z1)*z3]  [-z0*z1 + z1^2 + (z0 - z1)*z3]\n",
       "[              -z1*z2 + z0*z3]  [              -z1*z2 + z0*z3]\n",
       "[                (z0 - z1)*z3], [                (z0 - z1)*z3]\n",
       ")"
      ]
     },
     "execution_count": 19,
     "metadata": {},
     "output_type": "execute_result"
    }
   ],
   "source": [
    "###################################\n",
    "### R1 * R2 * R1 = R2 * R1 * R2 ###\n",
    "###################################\n",
    "\n",
    "simp(R1*cremona(R1*ZZ)), simp(cremona(R1*cremona(ZZ)))"
   ]
  },
  {
   "cell_type": "code",
   "execution_count": 20,
   "id": "6560a4b8-f7e1-4d4f-a52f-90ab0d53eabe",
   "metadata": {},
   "outputs": [
    {
     "data": {
      "text/plain": [
       "(\n",
       "[              -z0*z2 + z0*z3]  [              -z0*z2 + z0*z3]\n",
       "[              -z1*z2 + z0*z3]  [              -z1*z2 + z0*z3]\n",
       "[-z0*z2 + z2^2 + (z0 - z2)*z3]  [-z0*z2 + z2^2 + (z0 - z2)*z3]\n",
       "[                (z0 - z2)*z3], [                (z0 - z2)*z3]\n",
       ")"
      ]
     },
     "execution_count": 20,
     "metadata": {},
     "output_type": "execute_result"
    }
   ],
   "source": [
    "###################################\n",
    "### R3 * R2 * R3 = R2 * R3 * R2 ###\n",
    "###################################\n",
    "\n",
    "simp(R3*cremona(R3*ZZ)), simp(cremona(R3*cremona(ZZ)))"
   ]
  },
  {
   "cell_type": "code",
   "execution_count": 21,
   "id": "d37a3908-2baa-4fcd-bcd4-5c1e018c808b",
   "metadata": {},
   "outputs": [
    {
     "data": {
      "text/plain": [
       "[0 0 0 0]\n",
       "[0 0 0 0]\n",
       "[0 0 0 0]\n",
       "[0 0 0 0]"
      ]
     },
     "execution_count": 21,
     "metadata": {},
     "output_type": "execute_result"
    }
   ],
   "source": [
    "#######################\n",
    "### T * R1 * T = R3 ###\n",
    "#######################\n",
    "\n",
    "T*R1*T-R3"
   ]
  },
  {
   "cell_type": "code",
   "execution_count": 22,
   "id": "884e7333-a222-4e8e-877f-057596a337fc",
   "metadata": {},
   "outputs": [
    {
     "data": {
      "text/plain": [
       "[0]\n",
       "[0]\n",
       "[0]\n",
       "[0]"
      ]
     },
     "execution_count": 22,
     "metadata": {},
     "output_type": "execute_result"
    }
   ],
   "source": [
    "#######################\n",
    "### T * R2 * T = R2 ###\n",
    "#######################\n",
    "\n",
    "T*cremona(T*ZZ)-cremona(ZZ)"
   ]
  },
  {
   "cell_type": "markdown",
   "id": "d4e496b7-3ecf-4499-b9cd-6109da4eb79f",
   "metadata": {
    "jp-MarkdownHeadingCollapsed": true
   },
   "source": [
    "## Section 5.3. The boundary divisors"
   ]
  },
  {
   "cell_type": "markdown",
   "id": "25e3194e-a12b-4f34-b21c-56463b0b0462",
   "metadata": {},
   "source": [
    "### Corollary 5.10"
   ]
  },
  {
   "cell_type": "markdown",
   "id": "3fce3ceb-09fa-4434-97da-cb2057f254df",
   "metadata": {},
   "source": [
    "---\n",
    "We introduce the divisors $A_1, B_2, C_{02}, D_{12}$.\n",
    "\n",
    "---"
   ]
  },
  {
   "cell_type": "code",
   "execution_count": 23,
   "id": "db5a1059-4ff1-40f2-8efb-78b2d874cbf9",
   "metadata": {},
   "outputs": [],
   "source": [
    "A1=matrix([0,y1,0,y3]).transpose()\n",
    "B2=matrix([0,0,y2,y3]).transpose() \n",
    "C02=matrix([0,y1,y2,y3]).transpose() \n",
    "D12=matrix([0, 0, 0, 1]).transpose()  "
   ]
  },
  {
   "cell_type": "markdown",
   "id": "c5b6ee62-3bd3-4732-b6c6-da72fa73400b",
   "metadata": {},
   "source": [
    "---\n",
    "We apply $r_1$ and $r_3$ to $A_1, B_2, C_{02}, D_{12}$.\n",
    "\n",
    "---"
   ]
  },
  {
   "cell_type": "code",
   "execution_count": 24,
   "id": "deb4a203-efc8-40e7-a26a-128c64bc272a",
   "metadata": {},
   "outputs": [
    {
     "data": {
      "text/plain": [
       "[y1]\n",
       "[ 0]\n",
       "[y3]\n",
       "[ 0]"
      ]
     },
     "execution_count": 24,
     "metadata": {},
     "output_type": "execute_result"
    }
   ],
   "source": [
    "A0 = R1*A1; A0"
   ]
  },
  {
   "cell_type": "code",
   "execution_count": 25,
   "id": "963e4ce3-150c-4d24-8feb-c3b4724040c3",
   "metadata": {},
   "outputs": [
    {
     "data": {
      "text/plain": [
       "[y2]\n",
       "[y3]\n",
       "[ 0]\n",
       "[ 0]"
      ]
     },
     "execution_count": 25,
     "metadata": {},
     "output_type": "execute_result"
    }
   ],
   "source": [
    "B3=R3*B2; B3"
   ]
  },
  {
   "cell_type": "code",
   "execution_count": 26,
   "id": "15766982-1c5a-46d0-a882-5b2a9b0375fd",
   "metadata": {},
   "outputs": [
    {
     "data": {
      "text/plain": [
       "[y1]\n",
       "[ 0]\n",
       "[y3]\n",
       "[y2]"
      ]
     },
     "execution_count": 26,
     "metadata": {},
     "output_type": "execute_result"
    }
   ],
   "source": [
    "C12 = R1*C02; C12"
   ]
  },
  {
   "cell_type": "code",
   "execution_count": 27,
   "id": "3660e7a6-34b2-405a-b300-8cf39329aeb3",
   "metadata": {},
   "outputs": [
    {
     "data": {
      "text/plain": [
       "[y2]\n",
       "[y3]\n",
       "[ 0]\n",
       "[y1]"
      ]
     },
     "execution_count": 27,
     "metadata": {},
     "output_type": "execute_result"
    }
   ],
   "source": [
    "C03 = R3*C02; C03"
   ]
  },
  {
   "cell_type": "code",
   "execution_count": 28,
   "id": "c09adf00-0b8e-4865-901b-16f7fa749e52",
   "metadata": {},
   "outputs": [
    {
     "data": {
      "text/plain": [
       "[y3]\n",
       "[y2]\n",
       "[y1]\n",
       "[ 0]"
      ]
     },
     "execution_count": 28,
     "metadata": {},
     "output_type": "execute_result"
    }
   ],
   "source": [
    "C13= R1*R3*C02; C13"
   ]
  },
  {
   "cell_type": "code",
   "execution_count": 29,
   "id": "c0f6c463-85cd-4f5a-be33-e5593d480f7b",
   "metadata": {},
   "outputs": [
    {
     "data": {
      "text/plain": [
       "[0]\n",
       "[0]\n",
       "[1]\n",
       "[0]"
      ]
     },
     "execution_count": 29,
     "metadata": {},
     "output_type": "execute_result"
    }
   ],
   "source": [
    "D02=R1*D12; D02"
   ]
  },
  {
   "cell_type": "code",
   "execution_count": 30,
   "id": "9e0fc562-9457-4006-82a7-b3c677946a54",
   "metadata": {},
   "outputs": [
    {
     "data": {
      "text/plain": [
       "[0]\n",
       "[1]\n",
       "[0]\n",
       "[0]"
      ]
     },
     "execution_count": 30,
     "metadata": {},
     "output_type": "execute_result"
    }
   ],
   "source": [
    "D13= R3*D12; D13 "
   ]
  },
  {
   "cell_type": "code",
   "execution_count": 31,
   "id": "c847a287-c3e6-41f3-bb39-7e05425f7d79",
   "metadata": {},
   "outputs": [
    {
     "data": {
      "text/plain": [
       "[1]\n",
       "[0]\n",
       "[0]\n",
       "[0]"
      ]
     },
     "execution_count": 31,
     "metadata": {},
     "output_type": "execute_result"
    }
   ],
   "source": [
    "D03= R1*R3*D12; D03 "
   ]
  },
  {
   "cell_type": "markdown",
   "id": "0fe14228-18bc-4bd8-aa72-c04c39f30c3f",
   "metadata": {},
   "source": [
    "---\n",
    "We find $A_2,B_1,D_{01}$ and $C_{23}$ by looking at their images via $r_2$.\n",
    "\n",
    "---"
   ]
  },
  {
   "cell_type": "code",
   "execution_count": 32,
   "id": "91a518c7-5586-43d1-902b-5a90fb45d016",
   "metadata": {},
   "outputs": [
    {
     "data": {
      "text/plain": [
       "[                 0]\n",
       "[-(y0^2 - y0*y2)/y0]\n",
       "[                 0]\n",
       "[(y0*y2 - y0*y3)/y0]"
      ]
     },
     "execution_count": 32,
     "metadata": {},
     "output_type": "execute_result"
    }
   ],
   "source": [
    "A2=matrix([y0,y0,y2,y3]).transpose() \n",
    "cremona(A2)"
   ]
  },
  {
   "cell_type": "code",
   "execution_count": 33,
   "id": "e54603e2-e598-4959-8480-aad1a87db46b",
   "metadata": {},
   "outputs": [
    {
     "data": {
      "text/plain": [
       "[                 0]\n",
       "[                 0]\n",
       "[-(y0^2 - y0*y1)/y0]\n",
       "[(y0*y1 - y0*y3)/y0]"
      ]
     },
     "execution_count": 33,
     "metadata": {},
     "output_type": "execute_result"
    }
   ],
   "source": [
    "B1=matrix([y0,y1,y0,y3]).transpose()\n",
    "cremona(B1)"
   ]
  },
  {
   "cell_type": "code",
   "execution_count": 34,
   "id": "4de18265-5dab-4ff1-a8ff-dbe13cabe667",
   "metadata": {},
   "outputs": [
    {
     "data": {
      "text/plain": [
       "[0]\n",
       "[0]\n",
       "[1]\n",
       "[0]"
      ]
     },
     "execution_count": 34,
     "metadata": {},
     "output_type": "execute_result"
    }
   ],
   "source": [
    "D01= matrix([y0,y1,y0,y1]).transpose()\n",
    "cremona(D01)"
   ]
  },
  {
   "cell_type": "code",
   "execution_count": 35,
   "id": "e5465362-2ec8-4e7d-b875-9904ea895aec",
   "metadata": {},
   "outputs": [
    {
     "data": {
      "text/plain": [
       "[(y0^2*y2^2 - y0*y1*y2^2 - y0^2*y2*y3 + y0*y1*y2*y3)/(y0*y2)]\n",
       "[                        -(y0^2*y2*y3 - y0*y1*y2*y3)/(y0*y2)]\n",
       "[                        -(y0*y1*y2^2 - y0*y1*y2*y3)/(y0*y2)]\n",
       "[                                                          0]"
      ]
     },
     "execution_count": 35,
     "metadata": {},
     "output_type": "execute_result"
    }
   ],
   "source": [
    "C23 = matrix([y0*y2,y0*y3,y1*y2,y1*y3]).transpose(); \n",
    "cremona(C23)"
   ]
  },
  {
   "cell_type": "markdown",
   "id": "16a738a2-ec61-40a8-83f6-39289a8f45ab",
   "metadata": {},
   "source": [
    "---\n",
    "The remaining divisors are obtained by applying specific reflections to certain divisors.\n",
    "\n",
    "---"
   ]
  },
  {
   "cell_type": "code",
   "execution_count": 38,
   "id": "e82e03a1-2345-4766-8a36-96d0d13878fa",
   "metadata": {},
   "outputs": [
    {
     "data": {
      "text/plain": [
       "[y1]\n",
       "[y0]\n",
       "[y3]\n",
       "[y0]"
      ]
     },
     "execution_count": 38,
     "metadata": {},
     "output_type": "execute_result"
    }
   ],
   "source": [
    "B0=R1*B1; B0"
   ]
  },
  {
   "cell_type": "code",
   "execution_count": 39,
   "id": "ca5da657-9a39-4c77-87e9-ff6df423d238",
   "metadata": {},
   "outputs": [
    {
     "data": {
      "text/plain": [
       "[1]\n",
       "[1]\n",
       "[1]\n",
       "[1]"
      ]
     },
     "execution_count": 39,
     "metadata": {},
     "output_type": "execute_result"
    }
   ],
   "source": [
    "C01=cremona(C02); C01"
   ]
  },
  {
   "cell_type": "code",
   "execution_count": 40,
   "id": "eee8c8bd-0932-424f-8fbb-ecdf1fb12a83",
   "metadata": {},
   "outputs": [
    {
     "data": {
      "text/plain": [
       "[y2]\n",
       "[y3]\n",
       "[y0]\n",
       "[y0]"
      ]
     },
     "execution_count": 40,
     "metadata": {},
     "output_type": "execute_result"
    }
   ],
   "source": [
    "A3=R3*A2; A3"
   ]
  },
  {
   "cell_type": "code",
   "execution_count": 41,
   "id": "70d217e2-c1c2-485b-8da6-1975eede0774",
   "metadata": {},
   "outputs": [
    {
     "data": {
      "text/plain": [
       "[y0]\n",
       "[y0]\n",
       "[y1]\n",
       "[y1]"
      ]
     },
     "execution_count": 41,
     "metadata": {},
     "output_type": "execute_result"
    }
   ],
   "source": [
    "D23 = T*D01; D23"
   ]
  },
  {
   "cell_type": "code",
   "execution_count": null,
   "id": "60095a66-11ad-42f4-b6b3-f1ea0e99e6db",
   "metadata": {},
   "outputs": [],
   "source": []
  }
 ],
 "metadata": {
  "kernelspec": {
   "display_name": "SageMath 10.5",
   "language": "sage",
   "name": "sagemath-10.5"
  },
  "language_info": {
   "codemirror_mode": {
    "name": "ipython",
    "version": 3
   },
   "file_extension": ".py",
   "mimetype": "text/x-python",
   "name": "python",
   "nbconvert_exporter": "python",
   "pygments_lexer": "ipython3",
   "version": "3.12.5"
  }
 },
 "nbformat": 4,
 "nbformat_minor": 5
}
